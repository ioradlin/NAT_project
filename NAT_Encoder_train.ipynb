{
  "nbformat": 4,
  "nbformat_minor": 0,
  "metadata": {
    "colab": {
      "provenance": [],
      "collapsed_sections": [
        "t4rEsc-PXnA3"
      ],
      "gpuType": "T4",
      "authorship_tag": "ABX9TyN23/CZ3tvAh/ughUXBKEDZ",
      "include_colab_link": true
    },
    "kernelspec": {
      "name": "python3",
      "display_name": "Python 3"
    },
    "language_info": {
      "name": "python"
    },
    "accelerator": "GPU"
  },
  "cells": [
    {
      "cell_type": "markdown",
      "metadata": {
        "id": "view-in-github",
        "colab_type": "text"
      },
      "source": [
        "<a href=\"https://colab.research.google.com/github/ioradlin/NAT_project/blob/Encoder/NAT_Encoder_train.ipynb\" target=\"_parent\"><img src=\"https://colab.research.google.com/assets/colab-badge.svg\" alt=\"Open In Colab\"/></a>"
      ]
    },
    {
      "cell_type": "code",
      "source": [
        "def to_txt(x, name):\n",
        "  with open(name, 'w') as file:\n",
        "      file.write(x)\n",
        "\n",
        "def read_txt(name):\n",
        "  with open(name, 'r') as file:\n",
        "      temp= file.read()\n",
        "  return temp"
      ],
      "metadata": {
        "id": "Ei8Ks21rE-V_"
      },
      "execution_count": 1,
      "outputs": []
    },
    {
      "cell_type": "markdown",
      "source": [
        "## Transformer model"
      ],
      "metadata": {
        "id": "HLtbATLiib7h"
      }
    },
    {
      "cell_type": "markdown",
      "source": [
        "based on : https://towardsdatascience.com/build-your-own-transformer-from-scratch-using-pytorch-84c850470dcb"
      ],
      "metadata": {
        "id": "ez-ik9rQW8QV"
      }
    },
    {
      "cell_type": "code",
      "execution_count": 2,
      "metadata": {
        "id": "4PO29-_zS9qI"
      },
      "outputs": [],
      "source": [
        "import torch\n",
        "import torch.nn as nn\n",
        "import torch.optim as optim\n",
        "import torch.utils.data as data\n",
        "import math\n",
        "import copy"
      ]
    },
    {
      "cell_type": "code",
      "source": [
        "class MultiHeadAttention(nn.Module):\n",
        "    def __init__(self, d_model, num_heads):\n",
        "        super(MultiHeadAttention, self).__init__()\n",
        "        assert d_model % num_heads == 0, \"d_model must be divisible by num_heads\"\n",
        "\n",
        "        self.d_model = d_model\n",
        "        self.num_heads = num_heads\n",
        "        self.d_k = d_model // num_heads\n",
        "\n",
        "        self.W_q = nn.Linear(d_model, d_model)\n",
        "        self.W_k = nn.Linear(d_model, d_model)\n",
        "        self.W_v = nn.Linear(d_model, d_model)\n",
        "        self.W_o = nn.Linear(d_model, d_model)\n",
        "\n",
        "    def scaled_dot_product_attention(self, Q, K, V, mask=None):\n",
        "        attn_scores = torch.matmul(Q, K.transpose(-2, -1)) / math.sqrt(self.d_k)\n",
        "        if mask is not None:\n",
        "            attn_scores = attn_scores.masked_fill(mask == 0, -1e9)\n",
        "        attn_probs = torch.softmax(attn_scores, dim=-1)\n",
        "        output = torch.matmul(attn_probs, V)\n",
        "        return output\n",
        "\n",
        "    def split_heads(self, x):\n",
        "        batch_size, seq_length, d_model = x.size()\n",
        "        return x.view(batch_size, seq_length, self.num_heads, self.d_k).transpose(1, 2)\n",
        "\n",
        "    def combine_heads(self, x):\n",
        "        batch_size, _, seq_length, d_k = x.size()\n",
        "        return x.transpose(1, 2).contiguous().view(batch_size, seq_length, self.d_model)\n",
        "\n",
        "    def forward(self, Q, K, V, mask=None):\n",
        "        Q = self.split_heads(self.W_q(Q))\n",
        "        K = self.split_heads(self.W_k(K))\n",
        "        V = self.split_heads(self.W_v(V))\n",
        "\n",
        "        attn_output = self.scaled_dot_product_attention(Q, K, V, mask)\n",
        "        output = self.W_o(self.combine_heads(attn_output))\n",
        "        return output"
      ],
      "metadata": {
        "id": "FBbeCMNeTJnz"
      },
      "execution_count": 3,
      "outputs": []
    },
    {
      "cell_type": "code",
      "source": [
        "class PositionWiseFeedForward(nn.Module):\n",
        "    def __init__(self, d_model, d_ff):\n",
        "        super(PositionWiseFeedForward, self).__init__()\n",
        "        self.fc1 = nn.Linear(d_model, d_ff)\n",
        "        self.fc2 = nn.Linear(d_ff, d_model)\n",
        "        self.relu = nn.ReLU()\n",
        "\n",
        "    def forward(self, x):\n",
        "        return self.fc2(self.relu(self.fc1(x)))"
      ],
      "metadata": {
        "id": "SMzbQXEGTP4d"
      },
      "execution_count": 4,
      "outputs": []
    },
    {
      "cell_type": "code",
      "source": [
        "class PositionalEncoding(nn.Module):\n",
        "    def __init__(self, d_model, max_seq_length):\n",
        "        super(PositionalEncoding, self).__init__()\n",
        "\n",
        "        pe = torch.zeros(max_seq_length, d_model)\n",
        "        position = torch.arange(0, max_seq_length, dtype=torch.float).unsqueeze(1)\n",
        "        div_term = torch.exp(torch.arange(0, d_model, 2).float() * -(math.log(10000.0) / d_model))\n",
        "\n",
        "        pe[:, 0::2] = torch.sin(position * div_term)\n",
        "        pe[:, 1::2] = torch.cos(position * div_term)\n",
        "\n",
        "        self.register_buffer('pe', pe.unsqueeze(0))\n",
        "\n",
        "    def forward(self, x):\n",
        "        return x + self.pe[:, :x.size(1)]"
      ],
      "metadata": {
        "id": "1KKc4krKTQs4"
      },
      "execution_count": 5,
      "outputs": []
    },
    {
      "cell_type": "markdown",
      "source": [
        "#### Encoder"
      ],
      "metadata": {
        "id": "b35jL6jtihMU"
      }
    },
    {
      "cell_type": "code",
      "source": [
        "class EncoderLayer(nn.Module):\n",
        "    def __init__(self, d_model, num_heads, d_ff, dropout):\n",
        "        super(EncoderLayer, self).__init__()\n",
        "        self.self_attn = MultiHeadAttention(d_model, num_heads)\n",
        "        self.feed_forward = PositionWiseFeedForward(d_model, d_ff)\n",
        "        self.norm1 = nn.LayerNorm(d_model)\n",
        "        self.norm2 = nn.LayerNorm(d_model)\n",
        "        self.dropout = nn.Dropout(dropout)\n",
        "\n",
        "    def forward(self, x, mask):\n",
        "        attn_output = self.self_attn(x, x, x, mask)\n",
        "        x = self.norm1(x + self.dropout(attn_output))\n",
        "        ff_output = self.feed_forward(x)\n",
        "        x = self.norm2(x + self.dropout(ff_output))\n",
        "        return x"
      ],
      "metadata": {
        "id": "xPhv9YvHThbg"
      },
      "execution_count": 6,
      "outputs": []
    },
    {
      "cell_type": "markdown",
      "source": [
        "#### Decoder"
      ],
      "metadata": {
        "id": "32uS8JdRiimR"
      }
    },
    {
      "cell_type": "code",
      "source": [
        "class DecoderLayer(nn.Module):\n",
        "    def __init__(self, d_model, num_heads, d_ff, dropout):\n",
        "        super(DecoderLayer, self).__init__()\n",
        "        self.self_attn = MultiHeadAttention(d_model, num_heads)\n",
        "        self.cross_attn = MultiHeadAttention(d_model, num_heads)\n",
        "        self.feed_forward = PositionWiseFeedForward(d_model, d_ff)\n",
        "        self.norm1 = nn.LayerNorm(d_model)\n",
        "        self.norm2 = nn.LayerNorm(d_model)\n",
        "        self.norm3 = nn.LayerNorm(d_model)\n",
        "        self.dropout = nn.Dropout(dropout)\n",
        "\n",
        "    def forward(self, x, enc_output, src_mask, tgt_mask):\n",
        "        attn_output = self.self_attn(x, x, x, tgt_mask)\n",
        "        x = self.norm1(x + self.dropout(attn_output))\n",
        "        attn_output = self.cross_attn(x, enc_output, enc_output, src_mask)\n",
        "        x = self.norm2(x + self.dropout(attn_output))\n",
        "        ff_output = self.feed_forward(x)\n",
        "        x = self.norm3(x + self.dropout(ff_output))\n",
        "        return x"
      ],
      "metadata": {
        "id": "LdITRuGTTmIe"
      },
      "execution_count": 7,
      "outputs": []
    },
    {
      "cell_type": "code",
      "source": [
        "class Transformer(nn.Module):\n",
        "    def __init__(self, src_vocab_size, tgt_vocab_size, d_model, num_heads, num_layers, d_ff, max_seq_length, dropout):\n",
        "        super(Transformer, self).__init__()\n",
        "        self.encoder_embedding = nn.Embedding(src_vocab_size, d_model)\n",
        "        self.decoder_embedding = nn.Embedding(tgt_vocab_size, d_model)\n",
        "        self.positional_encoding = PositionalEncoding(d_model, max_seq_length)\n",
        "\n",
        "        self.encoder_layers = nn.ModuleList([EncoderLayer(d_model, num_heads, d_ff, dropout) for _ in range(num_layers)])\n",
        "        self.decoder_layers = nn.ModuleList([DecoderLayer(d_model, num_heads, d_ff, dropout) for _ in range(num_layers)])\n",
        "\n",
        "        self.fc = nn.Linear(d_model, tgt_vocab_size)\n",
        "        self.dropout = nn.Dropout(dropout)\n",
        "\n",
        "    def generate_mask(self, src, tgt):\n",
        "\n",
        "      # src mask\n",
        "        src_mask = (src != 0).unsqueeze(1).unsqueeze(2)\n",
        "      # tgt mask\n",
        "        tgt_mask = (tgt != 0).unsqueeze(1).unsqueeze(3)\n",
        "        seq_length = tgt.size(1)\n",
        "        nopeak_mask = (1 - torch.triu(torch.ones(1, seq_length, seq_length), diagonal=1)).bool()\n",
        "        tgt_mask = tgt_mask & nopeak_mask\n",
        "        return src_mask, tgt_mask\n",
        "\n",
        "    def forward(self, src, tgt):\n",
        "        src_mask, tgt_mask = self.generate_mask(src, tgt)\n",
        "        src_embedded = self.dropout(self.positional_encoding(self.encoder_embedding(src)))\n",
        "        tgt_embedded = self.dropout(self.positional_encoding(self.decoder_embedding(tgt)))\n",
        "\n",
        "        enc_output = src_embedded\n",
        "        for enc_layer in self.encoder_layers:\n",
        "            enc_output = enc_layer(enc_output, src_mask)\n",
        "\n",
        "        dec_output = tgt_embedded\n",
        "        for dec_layer in self.decoder_layers:\n",
        "            dec_output = dec_layer(dec_output, enc_output, src_mask, tgt_mask)\n",
        "\n",
        "        output = self.fc(dec_output)\n",
        "        #output= nn.functional.softmax(output, dim=2)\n",
        "\n",
        "        return output"
      ],
      "metadata": {
        "id": "3tMg-gT6Trlf"
      },
      "execution_count": 8,
      "outputs": []
    },
    {
      "cell_type": "code",
      "source": [
        "src_vocab_size = 5000\n",
        "tgt_vocab_size = 5000\n",
        "d_model = 512\n",
        "num_heads = 8\n",
        "num_layers = 6\n",
        "d_ff = 2048\n",
        "max_seq_length = 100\n",
        "dropout = 0.1\n",
        "\n",
        "transformer = Transformer(src_vocab_size, tgt_vocab_size, d_model, num_heads, num_layers, d_ff, max_seq_length, dropout)\n",
        "\n",
        "# Generate random sample data\n",
        "src_data = torch.randint(1, src_vocab_size, (64, 30))  # (batch_size, seq_length)\n",
        "tgt_data = torch.randint(1, tgt_vocab_size, (64, 40))  # (batch_size, seq_length)"
      ],
      "metadata": {
        "id": "GVIxzXZoq4BF"
      },
      "execution_count": 9,
      "outputs": []
    },
    {
      "cell_type": "code",
      "source": [
        "criterion = nn.CrossEntropyLoss(ignore_index=0)\n",
        "optimizer = optim.Adam(transformer.parameters(), lr=0.0001, betas=(0.9, 0.98), eps=1e-9)\n",
        "\n",
        "transformer.train()\n",
        "\n",
        "for epoch in range(1):\n",
        "    optimizer.zero_grad()\n",
        "    output = transformer(src_data, tgt_data[:, :-1])\n",
        "    loss = criterion(output.contiguous().view(-1, tgt_vocab_size), tgt_data[:, 1:].contiguous().view(-1))\n",
        "    loss.backward()\n",
        "    optimizer.step()\n",
        "    print(f\"Epoch: {epoch+1}, Loss: {loss.item()}\")"
      ],
      "metadata": {
        "id": "HbLxYIKqq8Lt",
        "colab": {
          "base_uri": "https://localhost:8080/"
        },
        "outputId": "50812db2-4d19-443b-cfb2-40ac827dc27f"
      },
      "execution_count": 10,
      "outputs": [
        {
          "output_type": "stream",
          "name": "stdout",
          "text": [
            "Epoch: 1, Loss: 8.668708801269531\n"
          ]
        }
      ]
    },
    {
      "cell_type": "markdown",
      "source": [
        "## NAT ENcoder"
      ],
      "metadata": {
        "id": "fQBlsK3gL9kI"
      }
    },
    {
      "cell_type": "code",
      "source": [
        "import torch\n",
        "import torch.nn as nn\n",
        "\n",
        "class NATEncoder(nn.Module):\n",
        "    def __init__(self, src_vocab_size, d_model, num_heads, num_layers, d_ff, max_seq_length, dropout):\n",
        "        super(NATEncoder, self).__init__()\n",
        "        self.encoder_embedding = nn.Embedding(src_vocab_size, d_model)\n",
        "        self.positional_encoding = PositionalEncoding(d_model, max_seq_length)\n",
        "\n",
        "        self.encoder_layers = nn.ModuleList([EncoderLayer(d_model, num_heads, d_ff, dropout) for _ in range(num_layers)])\n",
        "\n",
        "        self.fertility_fc = nn.Linear(d_model, 50) #L=50 from NAT paper\n",
        "        self.dropout = nn.Dropout(dropout)\n",
        "\n",
        "    def generate_mask(self, src):\n",
        "\n",
        "        # src mask\n",
        "        src_mask = (src != 0).unsqueeze(1).unsqueeze(2)\n",
        "        return src_mask\n",
        "\n",
        "    def forward(self, src):\n",
        "        src_mask = self.generate_mask(src)\n",
        "        src_embedded = self.dropout(self.positional_encoding(self.encoder_embedding(src)))\n",
        "\n",
        "        enc_output = src_embedded\n",
        "        for enc_layer in self.encoder_layers:\n",
        "            enc_output = enc_layer(enc_output, src_mask)\n",
        "\n",
        "        #print(enc_output.shape)\n",
        "        output = self.fertility_fc(enc_output)\n",
        "        return output"
      ],
      "metadata": {
        "id": "ahCQx8LkfBhK"
      },
      "execution_count": 40,
      "outputs": []
    },
    {
      "cell_type": "code",
      "source": [
        "#Encoder (fertility predictor)\n",
        "src_vocab_size = 1000; d_model = 512; num_heads = 8; num_layers = 6\n",
        "d_ff = 2048; max_seq_length = 100; dropout = 0.1\n",
        "\n",
        "encoder = NATEncoder(src_vocab_size, d_model, num_heads, num_layers, d_ff, max_seq_length, dropout)"
      ],
      "metadata": {
        "id": "iaucrS1TfS64"
      },
      "execution_count": 41,
      "outputs": []
    },
    {
      "cell_type": "markdown",
      "source": [
        "## Encoder용 data preprocess"
      ],
      "metadata": {
        "id": "QeaU7sdSh6ZN"
      }
    },
    {
      "cell_type": "markdown",
      "source": [
        "#### Load datasets"
      ],
      "metadata": {
        "id": "W5wEcrLnizzn"
      }
    },
    {
      "cell_type": "markdown",
      "source": [
        "#### Load corpus, vocab, fertility label"
      ],
      "metadata": {
        "id": "2Gzh5e4biumL"
      }
    },
    {
      "cell_type": "code",
      "source": [
        "import pickle\n",
        "\n",
        "with open('train_ft_bpe.pkl', 'rb') as file:\n",
        "     ft = pickle.load(file)\n",
        "\n",
        "with open('src_vocab.pkl', 'rb') as file:\n",
        "     src_vocab = pickle.load(file)\n",
        "\n",
        "with open('tgt_vocab.pkl','rb') as file:\n",
        "     tgt_vocab = pickle.load(file)"
      ],
      "metadata": {
        "id": "EStxt7vADwEy"
      },
      "execution_count": 13,
      "outputs": []
    },
    {
      "cell_type": "code",
      "source": [
        "## BPE tokenized\n",
        "\n",
        "bpe_de= read_txt('bpe_de.txt')\n",
        "bpe_en= read_txt('bpe_en.txt')"
      ],
      "metadata": {
        "id": "kmj2z1L_E_2r"
      },
      "execution_count": 14,
      "outputs": []
    },
    {
      "cell_type": "markdown",
      "source": [
        "#### **dataset** preprocess"
      ],
      "metadata": {
        "id": "_IYZSIcPjZPQ"
      }
    },
    {
      "cell_type": "code",
      "source": [
        "de= bpe_de.split('\\n')\n",
        "en= bpe_en.split('\\n')"
      ],
      "metadata": {
        "id": "0cXz57XOFUvK"
      },
      "execution_count": 15,
      "outputs": []
    },
    {
      "cell_type": "code",
      "source": [
        "from collections import Counter\n",
        "lengths= [len(d) for d in de]\n",
        "\n",
        "i = 0\n",
        "for length in lengths:\n",
        "  if length<=512:\n",
        "    i+=1\n",
        "\n",
        "i/len(lengths)\n",
        "\n",
        "## 99% 이상이 512 이상 길이이므로, 512를 max_len으로 사용"
      ],
      "metadata": {
        "colab": {
          "base_uri": "https://localhost:8080/"
        },
        "id": "kQSY5q8lHL-F",
        "outputId": "b7be8e0e-4f78-45fa-ba61-376a97fcf603"
      },
      "execution_count": 16,
      "outputs": [
        {
          "output_type": "execute_result",
          "data": {
            "text/plain": [
              "0.9959310779523087"
            ]
          },
          "metadata": {},
          "execution_count": 16
        }
      ]
    },
    {
      "cell_type": "markdown",
      "source": [
        "\n",
        "id로 전환, padding & truncation으로 max_len 통일"
      ],
      "metadata": {
        "id": "wfc6TawPWGqY"
      }
    },
    {
      "cell_type": "code",
      "source": [
        "def tokens_to_ids(text, vocab, max_seq_len=512):\n",
        "    preprocessed = []\n",
        "\n",
        "    for line in text:\n",
        "        tokens = line.split()\n",
        "        ids = [vocab.get(token, vocab.get('[UNK]')) for token in tokens]\n",
        "\n",
        "        # padding & trunc는 collate_fn에서 처리! (batch별로 local max_len 써야 효율적)\n",
        "\n",
        "        # if len(ids) > max_seq_len:\n",
        "        #     ids = ids[:max_seq_len]\n",
        "        # else:\n",
        "        #     ids.extend([vocab['[PAD]']] * (max_seq_len - len(ids)))\n",
        "\n",
        "        preprocessed.append(ids)\n",
        "\n",
        "    return preprocessed"
      ],
      "metadata": {
        "id": "vtxKlo0XFh9S"
      },
      "execution_count": 17,
      "outputs": []
    },
    {
      "cell_type": "code",
      "source": [
        "tokened_de= tokens_to_ids(de, src_vocab)\n",
        "tokened_en= tokens_to_ids(en, tgt_vocab)"
      ],
      "metadata": {
        "id": "H1Ghn45RKCqW"
      },
      "execution_count": 18,
      "outputs": []
    },
    {
      "cell_type": "code",
      "source": [
        "i=0\n",
        "for d, f in zip(tokened_de, ft):\n",
        "  if len(d)!=len(f):\n",
        "    i+=1\n",
        "\n",
        "i #엥 ??.. 1%니까 일단.. 빼고 할까요.."
      ],
      "metadata": {
        "colab": {
          "base_uri": "https://localhost:8080/"
        },
        "id": "OerrUwRZXtz6",
        "outputId": "a9046f97-6b10-401d-cce8-d6dbf3285201"
      },
      "execution_count": 19,
      "outputs": [
        {
          "output_type": "execute_result",
          "data": {
            "text/plain": [
              "1985"
            ]
          },
          "metadata": {},
          "execution_count": 19
        }
      ]
    },
    {
      "cell_type": "code",
      "source": [
        "data=[]\n",
        "for d, e, f in zip(tokened_de, tokened_en, ft):\n",
        "  if len(d)==len(f):\n",
        "    data.append({'de':tokened_de[i],'en':tokened_en[i],'ft':ft[i]})"
      ],
      "metadata": {
        "id": "RItZ-rplt1XW"
      },
      "execution_count": 20,
      "outputs": []
    },
    {
      "cell_type": "code",
      "source": [
        "len(data)"
      ],
      "metadata": {
        "colab": {
          "base_uri": "https://localhost:8080/"
        },
        "id": "juTiYQTqY8dA",
        "outputId": "c38592c6-2e5d-482f-ded9-660cca80e678"
      },
      "execution_count": 21,
      "outputs": [
        {
          "output_type": "execute_result",
          "data": {
            "text/plain": [
              "158254"
            ]
          },
          "metadata": {},
          "execution_count": 21
        }
      ]
    },
    {
      "cell_type": "markdown",
      "source": [
        "#### ✰ Loader & collate_fn ✰"
      ],
      "metadata": {
        "id": "d2n_1V2Ha7nT"
      }
    },
    {
      "cell_type": "code",
      "source": [
        "# PAD token이 원래 0인데, CE 계산할때 ignore = 0 해주면 fertility 예측값인 0도 무시되서\n",
        "# PAD token의 인덱스를 새로운 값 10135로 바꿔야할거같음 (tgt_vocab은 이보다 짧음)\n",
        "\n",
        "pad_id= len(src_vocab)"
      ],
      "metadata": {
        "id": "beZ8mi4RS9q1"
      },
      "execution_count": 22,
      "outputs": []
    },
    {
      "cell_type": "code",
      "source": [
        "import torch\n",
        "from torch.nn.utils.rnn import pad_sequence\n",
        "\n",
        "def tensor_pad_collate_fn(batch, pad_id=pad_id, max_sequence_length=512):\n",
        "    padded_data = {}\n",
        "\n",
        "    # Calculate max_len for each key separately\n",
        "    max_lens = {key: min(max(len(item[key]) for item in batch if key in item), max_sequence_length) for key in batch[0].keys()}\n",
        "\n",
        "    for key in batch[0].keys():\n",
        "        if key in max_lens:\n",
        "            max_len = max_lens[key]\n",
        "            sequences = [torch.tensor(item[key][:max_len] if len(item[key]) > max_len else item[key] + [pad_id] * (max_len - len(item[key])), dtype=torch.long) for item in batch if key in item]\n",
        "            padded_sequences = pad_sequence(sequences, batch_first=True, padding_value=pad_id)\n",
        "            padded_data[key] = padded_sequences\n",
        "\n",
        "    return padded_data\n"
      ],
      "metadata": {
        "id": "XT2dki7ut30Z"
      },
      "execution_count": 35,
      "outputs": []
    },
    {
      "cell_type": "code",
      "source": [
        "from torch.utils.data import DataLoader\n",
        "\n",
        "batch_size = 32\n",
        "train_loader = DataLoader(data, batch_size=batch_size, shuffle=True, collate_fn= tensor_pad_collate_fn)"
      ],
      "metadata": {
        "id": "nN3_8IENTkPD"
      },
      "execution_count": 38,
      "outputs": []
    },
    {
      "cell_type": "code",
      "source": [
        "## shape check ! (de와 ft는 같아야함) // 2천개 행 제거 후.. 진정됨\n",
        "\n",
        "for b in train_loader:\n",
        "  if b['de'].shape!=b['ft'].shape:\n",
        "    print('??', b['de'].shape, b['ft'].shape)\n",
        "    print(b['de'], b['ft'])"
      ],
      "metadata": {
        "id": "CqRiNHOjvYOC"
      },
      "execution_count": 47,
      "outputs": []
    },
    {
      "cell_type": "markdown",
      "source": [
        "## Encoder Training (with gpu)"
      ],
      "metadata": {
        "id": "rhTVzcOZLStu"
      }
    },
    {
      "cell_type": "code",
      "source": [
        "#TransformerEncoder init & to cuda\n",
        "\n",
        "src_vocab_size = len(src_vocab); d_model = 512; num_heads = 8; num_layers = 6\n",
        "d_ff = 2048; max_seq_length = 512; dropout = 0.1\n",
        "\n",
        "encoder = NATEncoder(src_vocab_size, d_model, num_heads, num_layers, d_ff, max_seq_length, dropout)\n",
        "\n",
        "device = torch.device(\"cuda\" if torch.cuda.is_available() else \"cpu\")\n",
        "encoder.to(device)\n",
        "\n",
        "print(device)"
      ],
      "metadata": {
        "id": "7UFKfGhPLiP7",
        "colab": {
          "base_uri": "https://localhost:8080/"
        },
        "outputId": "dc2af94a-7c81-4176-d536-aa23fa47c374"
      },
      "execution_count": 48,
      "outputs": [
        {
          "output_type": "stream",
          "name": "stdout",
          "text": [
            "cuda\n"
          ]
        }
      ]
    },
    {
      "cell_type": "code",
      "source": [
        "criterion = nn.CrossEntropyLoss(ignore_index=pad_id) # pad_id: special token index / softmax 계산을 내장하므로 unnormalized logits(scroes) 그대로 씀..!!\n",
        "optimizer = optim.Adam(encoder.parameters(), lr=0.01, betas=(0.9, 0.98), eps=1e-9)\n",
        "train_loader = DataLoader(data, batch_size=batch_size, shuffle=True, collate_fn= tensor_pad_collate_fn)\n",
        "\n",
        "encoder.train()\n",
        "\n",
        "for epoch in range(20):\n",
        "\n",
        "    for i, batch in enumerate(train_loader):\n",
        "\n",
        "        src = batch['de'].to(device)\n",
        "        ft_label = batch['ft'].to(device)\n",
        "\n",
        "        optimizer.zero_grad()\n",
        "\n",
        "        output = encoder(src)\n",
        "\n",
        "        # L= 50 (fertility 범위: 0~49) from paper\n",
        "        loss = criterion(output.contiguous().view(-1,50), ft_label.contiguous().view(-1))\n",
        "\n",
        "        loss.backward()\n",
        "\n",
        "        optimizer.step()\n",
        "\n",
        "\n",
        "    print(f\"Epoch: {epoch+1}, Loss: {loss.item()}\")"
      ],
      "metadata": {
        "id": "qN9ouQvbLUPj",
        "colab": {
          "base_uri": "https://localhost:8080/"
        },
        "outputId": "b49fc273-0f25-4a5f-e758-3c6e5884f95c"
      },
      "execution_count": 52,
      "outputs": [
        {
          "output_type": "stream",
          "name": "stdout",
          "text": [
            "Epoch: 1, Loss: 0.9537234306335449\n",
            "Epoch: 2, Loss: 0.9549230337142944\n",
            "Epoch: 3, Loss: 0.9538436532020569\n",
            "Epoch: 4, Loss: 0.9561002850532532\n",
            "Epoch: 5, Loss: 0.9565297961235046\n",
            "Epoch: 6, Loss: 0.9556589722633362\n",
            "Epoch: 7, Loss: 0.9561173319816589\n",
            "Epoch: 8, Loss: 0.9535827040672302\n",
            "Epoch: 9, Loss: 0.9557235836982727\n",
            "Epoch: 10, Loss: 0.9559870362281799\n",
            "Epoch: 11, Loss: 0.9549953937530518\n",
            "Epoch: 12, Loss: 0.9558344483375549\n",
            "Epoch: 13, Loss: 0.9560945630073547\n",
            "Epoch: 14, Loss: 0.9572625160217285\n",
            "Epoch: 15, Loss: 0.954663872718811\n",
            "Epoch: 16, Loss: 0.9561998844146729\n",
            "Epoch: 17, Loss: 0.9555560350418091\n",
            "Epoch: 18, Loss: 0.9587217569351196\n",
            "Epoch: 19, Loss: 0.9543480277061462\n",
            "Epoch: 20, Loss: 0.95745450258255\n"
          ]
        }
      ]
    },
    {
      "cell_type": "code",
      "source": [
        "torch.save(encoder.state_dict(), 'NATencoder_epoch20')"
      ],
      "metadata": {
        "id": "XN8GrKGIbOCx"
      },
      "execution_count": 53,
      "outputs": []
    },
    {
      "cell_type": "code",
      "source": [
        "encoder2 = NATEncoder(src_vocab_size, d_model, num_heads, num_layers, d_ff, max_seq_length, dropout)\n",
        "encoder2.to(device)\n",
        "\n",
        "criterion = nn.CrossEntropyLoss(ignore_index=pad_id) # pad_id: special token index / softmax 계산을 내장하므로 unnormalized logits(scroes) 그대로 씀..!!\n",
        "optimizer = optim.Adam(encoder2.parameters(), lr=0.0001, betas=(0.9, 0.98), eps=1e-9)\n",
        "train_loader = DataLoader(data, batch_size=batch_size, shuffle=True, collate_fn= tensor_pad_collate_fn)"
      ],
      "metadata": {
        "id": "M6rOfPKxnVoY"
      },
      "execution_count": 71,
      "outputs": []
    },
    {
      "cell_type": "code",
      "source": [
        "encoder2.train()\n",
        "\n",
        "for epoch in range(1):\n",
        "\n",
        "    for i, batch in enumerate(train_loader):\n",
        "\n",
        "        src = batch['de'].to(device)\n",
        "        ft_label = batch['ft'].to(device)\n",
        "\n",
        "        optimizer.zero_grad()\n",
        "\n",
        "        output = encoder2(src)\n",
        "\n",
        "        # L= 50 (fertility 범위: 0~49) from paper\n",
        "        loss = criterion(output.contiguous().view(-1,50), ft_label.contiguous().view(-1))\n",
        "\n",
        "        loss.backward()\n",
        "\n",
        "        if i%1000==0:\n",
        "          print(f\"done: {i*batch_size}, Loss: {loss.item()}\")\n",
        "\n",
        "        optimizer.step()\n",
        "\n",
        "\n",
        "\n",
        "    print(f\"Epoch: {epoch+1}, Loss: {loss.item()}\")"
      ],
      "metadata": {
        "colab": {
          "base_uri": "https://localhost:8080/"
        },
        "id": "wUdOp33cjqus",
        "outputId": "4ab6017b-370a-4b0a-e35b-c7d80a900042"
      },
      "execution_count": 72,
      "outputs": [
        {
          "output_type": "stream",
          "name": "stdout",
          "text": [
            "done: 0, Loss: 4.236850261688232\n",
            "done: 32000, Loss: 5.042446105107956e-07\n",
            "done: 64000, Loss: 5.854027040896881e-09\n",
            "done: 96000, Loss: 1.0909777969914103e-08\n",
            "done: 128000, Loss: 1.8626450382086546e-09\n",
            "Epoch: 1, Loss: 1.1556001489054779e-08\n"
          ]
        }
      ]
    },
    {
      "cell_type": "markdown",
      "source": [
        "lr 낮추니까 CE loss는 확 줄어드는데, 여전히 1 Epoch 안되서 빠르게 수렴해버림\n",
        "\n",
        "(한 Epoch을 다 돌지 않았을 때는 Epoch내 데이터의 loss는 validation loss나 마찬가진데도)"
      ],
      "metadata": {
        "id": "ppfCS4yto2nK"
      }
    },
    {
      "cell_type": "markdown",
      "source": [
        "### Example (참고용, transformer)"
      ],
      "metadata": {
        "id": "t4rEsc-PXnA3"
      }
    },
    {
      "cell_type": "code",
      "source": [
        "src_vocab_size = 5000\n",
        "tgt_vocab_size = 5000\n",
        "d_model = 512\n",
        "num_heads = 8\n",
        "num_layers = 6\n",
        "d_ff = 2048\n",
        "max_seq_length = 5\n",
        "dropout = 0.1\n",
        "\n",
        "transformer = Transformer(src_vocab_size, tgt_vocab_size, d_model, num_heads, num_layers, d_ff, max_seq_length, dropout)\n",
        "\n",
        "# Generate random sample data\n",
        "src_data = torch.randint(1, src_vocab_size, (16, max_seq_length))  # (batch_size, seq_length)\n",
        "tgt_data = torch.randint(1, tgt_vocab_size, (16, max_seq_length))  # (batch_size, seq_length)"
      ],
      "metadata": {
        "id": "K1A-xg48TvAH"
      },
      "execution_count": null,
      "outputs": []
    },
    {
      "cell_type": "code",
      "source": [
        "criterion = nn.CrossEntropyLoss(ignore_index=0) #0: special token / softmax 계산을 내장하므로 unnormalized logits(scroes) 그대로 씀..!!\n",
        "optimizer = optim.Adam(transformer.parameters(), lr=0.0001, betas=(0.9, 0.98), eps=1e-9)\n",
        "\n",
        "transformer.train()\n",
        "\n",
        "for epoch in range(100):\n",
        "    optimizer.zero_grad()\n",
        "    output = transformer(src_data, tgt_data)\n",
        "\n",
        "    loss = criterion(output.contiguous().view(-1,tgt_vocab_size), tgt_data.contiguous().view(-1))\n",
        "\n",
        "    # print(output.contiguous().view(-1,tgt_vocab_size).shape, tgt_data.contiguous().view(-1).shape)\n",
        "    # print('loss',loss)\n",
        "    loss.backward()\n",
        "    optimizer.step()\n",
        "    # break\n",
        "    print(f\"Epoch: {epoch+1}, Loss: {loss.item()}\")"
      ],
      "metadata": {
        "id": "Axt6htQBTxfG"
      },
      "execution_count": null,
      "outputs": []
    }
  ]
}