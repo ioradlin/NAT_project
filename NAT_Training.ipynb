{
  "nbformat": 4,
  "nbformat_minor": 0,
  "metadata": {
    "colab": {
      "provenance": [],
      "gpuType": "T4",
      "toc_visible": true,
      "authorship_tag": "ABX9TyNIKrtOxKE4BMObGRGgBqwz",
      "include_colab_link": true
    },
    "kernelspec": {
      "name": "python3",
      "display_name": "Python 3"
    },
    "language_info": {
      "name": "python"
    },
    "accelerator": "GPU"
  },
  "cells": [
    {
      "cell_type": "markdown",
      "metadata": {
        "id": "view-in-github",
        "colab_type": "text"
      },
      "source": [
        "<a href=\"https://colab.research.google.com/github/ioradlin/NAT_project/blob/main/NAT_Training.ipynb\" target=\"_parent\"><img src=\"https://colab.research.google.com/assets/colab-badge.svg\" alt=\"Open In Colab\"/></a>"
      ]
    },
    {
      "cell_type": "code",
      "source": [
        "def to_txt(x, name):\n",
        "  with open(name, 'w') as file:\n",
        "      file.write(x)\n",
        "\n",
        "def read_txt(name):\n",
        "  with open(name, 'r') as file:\n",
        "      temp= file.read()\n",
        "  return temp"
      ],
      "metadata": {
        "id": "Ei8Ks21rE-V_"
      },
      "execution_count": 169,
      "outputs": []
    },
    {
      "cell_type": "markdown",
      "source": [
        "## Transformer code"
      ],
      "metadata": {
        "id": "HLtbATLiib7h"
      }
    },
    {
      "cell_type": "markdown",
      "source": [
        "based on : https://towardsdatascience.com/build-your-own-transformer-from-scratch-using-pytorch-84c850470dcb"
      ],
      "metadata": {
        "id": "ez-ik9rQW8QV"
      }
    },
    {
      "cell_type": "code",
      "execution_count": 170,
      "metadata": {
        "id": "4PO29-_zS9qI"
      },
      "outputs": [],
      "source": [
        "import torch\n",
        "import torch.nn as nn\n",
        "import torch.optim as optim\n",
        "import torch.utils.data as data\n",
        "import math\n",
        "import copy"
      ]
    },
    {
      "cell_type": "code",
      "source": [
        "class MultiHeadAttention(nn.Module):\n",
        "    def __init__(self, d_model, num_heads):\n",
        "        super(MultiHeadAttention, self).__init__()\n",
        "        assert d_model % num_heads == 0, \"d_model must be divisible by num_heads\"\n",
        "\n",
        "        self.d_model = d_model\n",
        "        self.num_heads = num_heads\n",
        "        self.d_k = d_model // num_heads\n",
        "\n",
        "        self.W_q = nn.Linear(d_model, d_model)\n",
        "        self.W_k = nn.Linear(d_model, d_model)\n",
        "        self.W_v = nn.Linear(d_model, d_model)\n",
        "        self.W_o = nn.Linear(d_model, d_model)\n",
        "\n",
        "    def scaled_dot_product_attention(self, Q, K, V, mask=None):\n",
        "        attn_scores = torch.matmul(Q, K.transpose(-2, -1)) / math.sqrt(self.d_k)\n",
        "        if mask is not None:\n",
        "            mask = mask.to(attn_scores.device) #@@ 해야되는거였음???\n",
        "            #print(attn_scores.device) #cuda:0\n",
        "            attn_scores = attn_scores.masked_fill(mask == 0, -1e9)\n",
        "        attn_probs = torch.softmax(attn_scores, dim=-1)\n",
        "        output = torch.matmul(attn_probs, V)\n",
        "        return output\n",
        "\n",
        "    def split_heads(self, x):\n",
        "        batch_size, seq_length, d_model = x.size()\n",
        "        return x.view(batch_size, seq_length, self.num_heads, self.d_k).transpose(1, 2)\n",
        "\n",
        "    def combine_heads(self, x):\n",
        "        batch_size, _, seq_length, d_k = x.size()\n",
        "        return x.transpose(1, 2).contiguous().view(batch_size, seq_length, self.d_model)\n",
        "\n",
        "    def forward(self, Q, K, V, mask=None):\n",
        "        Q = self.split_heads(self.W_q(Q))\n",
        "        K = self.split_heads(self.W_k(K))\n",
        "        V = self.split_heads(self.W_v(V))\n",
        "\n",
        "        attn_output = self.scaled_dot_product_attention(Q, K, V, mask)\n",
        "        output = self.W_o(self.combine_heads(attn_output))\n",
        "        return output"
      ],
      "metadata": {
        "id": "FBbeCMNeTJnz"
      },
      "execution_count": 171,
      "outputs": []
    },
    {
      "cell_type": "code",
      "source": [
        "class PositionWiseFeedForward(nn.Module):\n",
        "    def __init__(self, d_model, d_ff):\n",
        "        super(PositionWiseFeedForward, self).__init__()\n",
        "        self.fc1 = nn.Linear(d_model, d_ff)\n",
        "        self.fc2 = nn.Linear(d_ff, d_model)\n",
        "        self.relu = nn.ReLU()\n",
        "\n",
        "    def forward(self, x):\n",
        "        return self.fc2(self.relu(self.fc1(x)))"
      ],
      "metadata": {
        "id": "SMzbQXEGTP4d"
      },
      "execution_count": 172,
      "outputs": []
    },
    {
      "cell_type": "code",
      "source": [
        "class PositionalEncoding(nn.Module):\n",
        "    def __init__(self, d_model, max_seq_length):\n",
        "        super(PositionalEncoding, self).__init__()\n",
        "\n",
        "        pe = torch.zeros(max_seq_length, d_model)\n",
        "        position = torch.arange(0, max_seq_length, dtype=torch.float).unsqueeze(1)\n",
        "        div_term = torch.exp(torch.arange(0, d_model, 2).float() * -(math.log(10000.0) / d_model))\n",
        "\n",
        "        pe[:, 0::2] = torch.sin(position * div_term)\n",
        "        pe[:, 1::2] = torch.cos(position * div_term)\n",
        "\n",
        "        self.register_buffer('pe', pe.unsqueeze(0))\n",
        "\n",
        "    def forward(self, x):\n",
        "        return x + self.pe[:, :x.size(1)]"
      ],
      "metadata": {
        "id": "1KKc4krKTQs4"
      },
      "execution_count": 173,
      "outputs": []
    },
    {
      "cell_type": "code",
      "source": [
        "class EncoderLayer(nn.Module):\n",
        "    def __init__(self, d_model, num_heads, d_ff, dropout):\n",
        "        super(EncoderLayer, self).__init__()\n",
        "        self.self_attn = MultiHeadAttention(d_model, num_heads)\n",
        "        self.feed_forward = PositionWiseFeedForward(d_model, d_ff)\n",
        "        self.norm1 = nn.LayerNorm(d_model)\n",
        "        self.norm2 = nn.LayerNorm(d_model)\n",
        "        self.dropout = nn.Dropout(dropout)\n",
        "\n",
        "    def forward(self, x, mask):\n",
        "        attn_output = self.self_attn(x, x, x, mask)\n",
        "        x = self.norm1(x + self.dropout(attn_output))\n",
        "        ff_output = self.feed_forward(x)\n",
        "        x = self.norm2(x + self.dropout(ff_output))\n",
        "        return x"
      ],
      "metadata": {
        "id": "xPhv9YvHThbg"
      },
      "execution_count": 174,
      "outputs": []
    },
    {
      "cell_type": "code",
      "source": [
        "class DecoderLayer(nn.Module):\n",
        "    def __init__(self, d_model, num_heads, d_ff, dropout):\n",
        "        super(DecoderLayer, self).__init__()\n",
        "        self.self_attn = MultiHeadAttention(d_model, num_heads)\n",
        "        self.cross_attn = MultiHeadAttention(d_model, num_heads)\n",
        "        self.feed_forward = PositionWiseFeedForward(d_model, d_ff)\n",
        "        self.norm1 = nn.LayerNorm(d_model)\n",
        "        self.norm2 = nn.LayerNorm(d_model)\n",
        "        self.norm3 = nn.LayerNorm(d_model)\n",
        "        self.dropout = nn.Dropout(dropout)\n",
        "\n",
        "    def forward(self, x, enc_output, src_mask, tgt_mask):\n",
        "        attn_output = self.self_attn(x, x, x, tgt_mask)\n",
        "        x = self.norm1(x + self.dropout(attn_output))\n",
        "        attn_output = self.cross_attn(x, enc_output, enc_output, src_mask)\n",
        "        x = self.norm2(x + self.dropout(attn_output))\n",
        "        ff_output = self.feed_forward(x)\n",
        "        x = self.norm3(x + self.dropout(ff_output))\n",
        "        return x"
      ],
      "metadata": {
        "id": "LdITRuGTTmIe"
      },
      "execution_count": 175,
      "outputs": []
    },
    {
      "cell_type": "code",
      "source": [
        "class Transformer(nn.Module):\n",
        "    def __init__(self, src_vocab_size, tgt_vocab_size, d_model, num_heads, num_layers, d_ff, max_seq_length, dropout):\n",
        "        super(Transformer, self).__init__()\n",
        "        self.encoder_embedding = nn.Embedding(src_vocab_size, d_model)\n",
        "        self.decoder_embedding = nn.Embedding(tgt_vocab_size, d_model)\n",
        "        self.positional_encoding = PositionalEncoding(d_model, max_seq_length)\n",
        "\n",
        "        self.encoder_layers = nn.ModuleList([EncoderLayer(d_model, num_heads, d_ff, dropout) for _ in range(num_layers)])\n",
        "        self.decoder_layers = nn.ModuleList([DecoderLayer(d_model, num_heads, d_ff, dropout) for _ in range(num_layers)])\n",
        "\n",
        "        self.fc = nn.Linear(d_model, tgt_vocab_size)\n",
        "        self.dropout = nn.Dropout(dropout)\n",
        "\n",
        "    def generate_mask(self, src, tgt):\n",
        "\n",
        "      # src mask\n",
        "        src_mask = (src != 0).unsqueeze(1).unsqueeze(2)\n",
        "      # tgt mask\n",
        "        tgt_mask = (tgt != 0).unsqueeze(1).unsqueeze(3)\n",
        "        seq_length = tgt.size(1)\n",
        "        nopeak_mask = (1 - torch.triu(torch.ones(1, seq_length, seq_length), diagonal=1)).bool()\n",
        "        tgt_mask = tgt_mask & nopeak_mask\n",
        "        return src_mask, tgt_mask\n",
        "\n",
        "    def forward(self, src, tgt):\n",
        "        src_mask, tgt_mask = self.generate_mask(src, tgt)\n",
        "        src_embedded = self.dropout(self.positional_encoding(self.encoder_embedding(src)))\n",
        "        tgt_embedded = self.dropout(self.positional_encoding(self.decoder_embedding(tgt)))\n",
        "\n",
        "        enc_output = src_embedded\n",
        "        for enc_layer in self.encoder_layers:\n",
        "            enc_output = enc_layer(enc_output, src_mask)\n",
        "\n",
        "        dec_output = tgt_embedded\n",
        "        for dec_layer in self.decoder_layers:\n",
        "            dec_output = dec_layer(dec_output, enc_output, src_mask, tgt_mask)\n",
        "\n",
        "        output = self.fc(dec_output)\n",
        "\n",
        "        return output"
      ],
      "metadata": {
        "id": "3tMg-gT6Trlf"
      },
      "execution_count": 176,
      "outputs": []
    },
    {
      "cell_type": "code",
      "source": [
        "src_vocab_size = 5000\n",
        "tgt_vocab_size = 5000\n",
        "d_model = 512\n",
        "num_heads = 8\n",
        "num_layers = 6\n",
        "d_ff = 2048\n",
        "max_seq_length = 100\n",
        "dropout = 0.1\n",
        "\n",
        "transformer = Transformer(src_vocab_size, tgt_vocab_size, d_model, num_heads, num_layers, d_ff, max_seq_length, dropout)\n",
        "\n",
        "# Generate random sample data\n",
        "src_data = torch.randint(1, src_vocab_size, (64, 30))  # (batch_size, seq_length)\n",
        "tgt_data = torch.randint(1, tgt_vocab_size, (64, 40))  # (batch_size, seq_length)"
      ],
      "metadata": {
        "id": "GVIxzXZoq4BF"
      },
      "execution_count": 177,
      "outputs": []
    },
    {
      "cell_type": "code",
      "source": [
        "criterion = nn.CrossEntropyLoss(ignore_index=0)\n",
        "optimizer = optim.Adam(transformer.parameters(), lr=0.0001, betas=(0.9, 0.98), eps=1e-9)\n",
        "\n",
        "transformer.train()\n",
        "\n",
        "for epoch in range(1):\n",
        "    optimizer.zero_grad()\n",
        "    output = transformer(src_data, tgt_data[:, :-1])\n",
        "    loss = criterion(output.contiguous().view(-1, tgt_vocab_size), tgt_data[:, 1:].contiguous().view(-1))\n",
        "    loss.backward()\n",
        "    optimizer.step()\n",
        "    print(f\"Epoch: {epoch+1}, Loss: {loss.item()}\")"
      ],
      "metadata": {
        "id": "HbLxYIKqq8Lt",
        "colab": {
          "base_uri": "https://localhost:8080/"
        },
        "outputId": "02cd10dd-e4d7-4219-e626-f39b4f52ad92"
      },
      "execution_count": 178,
      "outputs": [
        {
          "output_type": "stream",
          "name": "stdout",
          "text": [
            "Epoch: 1, Loss: 8.663016319274902\n"
          ]
        }
      ]
    },
    {
      "cell_type": "markdown",
      "source": [
        "\n",
        "\n",
        "---\n",
        "\n"
      ],
      "metadata": {
        "id": "7VEYYthCWORU"
      }
    },
    {
      "cell_type": "markdown",
      "source": [
        "## NAT Encoder"
      ],
      "metadata": {
        "id": "fQBlsK3gL9kI"
      }
    },
    {
      "cell_type": "code",
      "source": [
        "import torch\n",
        "import torch.nn as nn\n",
        "\n",
        "## Layer는 transformer와 완전히 동일\n",
        "\n",
        "class EncoderLayer(nn.Module):\n",
        "    def __init__(self, d_model, num_heads, d_ff, dropout):\n",
        "        super(EncoderLayer, self).__init__()\n",
        "        self.self_attn = MultiHeadAttention(d_model, num_heads)\n",
        "        self.feed_forward = PositionWiseFeedForward(d_model, d_ff)\n",
        "        self.norm1 = nn.LayerNorm(d_model)\n",
        "        self.norm2 = nn.LayerNorm(d_model)\n",
        "        self.dropout = nn.Dropout(dropout)\n",
        "\n",
        "    def forward(self, x, mask):\n",
        "        attn_output = self.self_attn(x, x, x, mask)\n",
        "        x = self.norm1(x + self.dropout(attn_output))\n",
        "        ff_output = self.feed_forward(x)\n",
        "        x = self.norm2(x + self.dropout(ff_output))\n",
        "        return x\n",
        "\n",
        "# --------------------------------\n",
        "\n",
        "\n",
        "class NATEncoder(nn.Module):\n",
        "    def __init__(self, src_vocab_size, d_model, num_heads, num_layers, d_ff, max_seq_length, dropout):\n",
        "        super(NATEncoder, self).__init__()\n",
        "        self.encoder_embedding = nn.Embedding(src_vocab_size, d_model)\n",
        "        self.positional_encoding = PositionalEncoding(d_model, max_seq_length)\n",
        "\n",
        "        self.encoder_layers = nn.ModuleList([EncoderLayer(d_model, num_heads, d_ff, dropout) for _ in range(num_layers)])\n",
        "\n",
        "        self.dropout = nn.Dropout(dropout)\n",
        "\n",
        "    def generate_mask(self, src):\n",
        "\n",
        "        src_mask = (src != 0).unsqueeze(1).unsqueeze(2)\n",
        "        return src_mask\n",
        "\n",
        "    def forward(self, src):\n",
        "        src_mask = self.generate_mask(src)\n",
        "        src_embedded = self.dropout(self.positional_encoding(self.encoder_embedding(src)))\n",
        "\n",
        "        enc_output = src_embedded\n",
        "        for enc_layer in self.encoder_layers:\n",
        "            enc_output = enc_layer(enc_output, src_mask)\n",
        "\n",
        "\n",
        "        return enc_output"
      ],
      "metadata": {
        "id": "ahCQx8LkfBhK"
      },
      "execution_count": 179,
      "outputs": []
    },
    {
      "cell_type": "code",
      "source": [
        "#Encoder (fertility predictor)\n",
        "src_vocab_size = 1000; d_model = 512; num_heads = 8; num_layers = 6\n",
        "d_ff = 2048; max_seq_length = 100; dropout = 0.1\n",
        "\n",
        "encoder = NATEncoder(src_vocab_size, d_model, num_heads, num_layers, d_ff, max_seq_length, dropout)"
      ],
      "metadata": {
        "id": "iaucrS1TfS64"
      },
      "execution_count": 180,
      "outputs": []
    },
    {
      "cell_type": "code",
      "source": [
        "#Example\n",
        "\n",
        "src_sequence = torch.randint(0, src_vocab_size, (1, 10))\n",
        "out= encoder(src_sequence)\n",
        "\n",
        "out.shape"
      ],
      "metadata": {
        "colab": {
          "base_uri": "https://localhost:8080/"
        },
        "id": "Fg_cHmjdWVyh",
        "outputId": "0249d148-deb9-4a07-c4fb-2e5a7dea44b0"
      },
      "execution_count": 181,
      "outputs": [
        {
          "output_type": "execute_result",
          "data": {
            "text/plain": [
              "torch.Size([1, 10, 512])"
            ]
          },
          "metadata": {},
          "execution_count": 181
        }
      ]
    },
    {
      "cell_type": "markdown",
      "source": [
        "## ✨ NAT Decoder"
      ],
      "metadata": {
        "id": "qSjXM--SRGLb"
      }
    },
    {
      "cell_type": "code",
      "source": [
        "## 수정 중!\n",
        "\n",
        "## Self -> Cross(Position) -> Cross(EnC_out) -> fc 순\n",
        "\n",
        "class NAT_DecoderLayer(nn.Module):\n",
        "    def __init__(self, d_model, num_heads, d_ff, dropout):\n",
        "        super(NAT_DecoderLayer, self).__init__()\n",
        "\n",
        "        #for NAT PE attention\n",
        "        self.positional_encoding = PositionalEncoding(d_model, max_seq_length)\n",
        "        # used for both NAT, transformer\n",
        "        self.self_attn = MultiHeadAttention(d_model, num_heads) #forward: Q,K,V,mask\n",
        "        self.cross_attn = MultiHeadAttention(d_model, num_heads)\n",
        "        self.feed_forward = PositionWiseFeedForward(d_model, d_ff)\n",
        "        self.norm1 = nn.LayerNorm(d_model)\n",
        "        self.norm2 = nn.LayerNorm(d_model)\n",
        "        self.norm3 = nn.LayerNorm(d_model)\n",
        "        self.norm4 = nn.LayerNorm(d_model)\n",
        "        self.dropout = nn.Dropout(dropout)\n",
        "\n",
        "    def forward(self, x, enc_output, src_mask, tgt_mask):\n",
        "        attn_output = self.self_attn(x, x, x, tgt_mask) #query의 자기 위치를 가리는 mask\n",
        "        x = self.norm1(x + self.dropout(attn_output))   # (어차피 x와 더하니까 주변 정보를 더 반영하려는 의도일듯)\n",
        "\n",
        "        # PE가 Q, K고 decoder state가 V / PE는 어차피 고정 값이니까 그냥 만들면 됨\n",
        "        pe_x= self.positional_encoding(x) #docoder state의 shape만 알면 됨\n",
        "        attn_output= self.cross_attn(pe_x, pe_x, x) # mask는 .. 안 주면 될듯 ? (mask: QK로 만든 seq x seq 크기의 score에 적용)\n",
        "        x = self.norm2(x + self.dropout(attn_output))\n",
        "        #print('pe', pe_x.shape) # batch x tgt_seq x d_model\n",
        "\n",
        "        attn_output = self.cross_attn(x, enc_output, enc_output, src_mask)\n",
        "        x = self.norm3(x + self.dropout(attn_output))\n",
        "        ff_output = self.feed_forward(x)\n",
        "        x = self.norm4(x + self.dropout(ff_output))\n",
        "        return x"
      ],
      "metadata": {
        "id": "LjCBrcsiSNEw"
      },
      "execution_count": 182,
      "outputs": []
    },
    {
      "cell_type": "code",
      "source": [
        "## 수정 중 (빠른 디버깅을 위해 먼저 해봐도됨, training은 NAT로 함)\n",
        "\n",
        "import torch\n",
        "import torch.nn as nn\n",
        "\n",
        "class NAT_Decoder(nn.Module):\n",
        "    def __init__(self, tgt_vocab_size, d_model, num_heads, num_layers, d_ff, max_seq_length, dropout):\n",
        "        super(NAT_Decoder, self).__init__()\n",
        "        self.decoder_embedding = nn.Embedding(tgt_vocab_size, d_model)\n",
        "        self.positional_encoding = PositionalEncoding(d_model, max_seq_length)\n",
        "\n",
        "        self.decoder_layers = nn.ModuleList([NAT_DecoderLayer(d_model, num_heads, d_ff, dropout) for _ in range(num_layers)])\n",
        "\n",
        "        self.fc = nn.Linear(d_model, tgt_vocab_size)\n",
        "        self.dropout = nn.Dropout(dropout)\n",
        "\n",
        "    def generate_mask(self, tgt):\n",
        "        tgt_mask = (tgt != 0).unsqueeze(1).unsqueeze(3)\n",
        "        seq_length = tgt.size(1)\n",
        "        nopeak_mask = (1 - torch.triu(torch.ones(1, seq_length, seq_length), diagonal=1)).bool()\n",
        "        tgt_mask = tgt_mask & nopeak_mask\n",
        "        return tgt_mask\n",
        "\n",
        "    def forward(self, tgt, enc_output):\n",
        "        tgt_mask = self.generate_mask(tgt)\n",
        "        tgt_embedded = self.dropout(self.positional_encoding(self.decoder_embedding(tgt)))\n",
        "\n",
        "        dec_output = tgt_embedded\n",
        "        for dec_layer in self.decoder_layers:\n",
        "            dec_output = dec_layer(dec_output, enc_output, None, tgt_mask)  # Removed src_mask\n",
        "\n",
        "        output = self.fc(dec_output)\n",
        "\n",
        "        return output\n"
      ],
      "metadata": {
        "id": "gluynnIDQmK1"
      },
      "execution_count": 183,
      "outputs": []
    },
    {
      "cell_type": "code",
      "source": [
        "# Create a random input sequence for the decoder (just for demonstration)\n",
        "tgt_sequence = torch.randint(0, tgt_vocab_size, (1, 8))  # Assuming output sequence length is 8\n",
        "\n",
        "# Instantiate the TransformerDecoder\n",
        "transformer_decoder = NAT_Decoder(tgt_vocab_size, d_model, num_heads, num_layers, d_ff, max_seq_length, dropout)\n",
        "\n",
        "enc_output = torch.randn(1, 10, d_model)\n",
        "output = transformer_decoder(tgt_sequence, enc_output)\n",
        "\n",
        "print(\"Output size:\", output.size())"
      ],
      "metadata": {
        "colab": {
          "base_uri": "https://localhost:8080/"
        },
        "id": "koQQ62BDSCTr",
        "outputId": "ea9af08c-5647-480d-81ec-1a28bcab8216"
      },
      "execution_count": 184,
      "outputs": [
        {
          "output_type": "stream",
          "name": "stdout",
          "text": [
            "Output size: torch.Size([1, 8, 5000])\n"
          ]
        }
      ]
    },
    {
      "cell_type": "markdown",
      "source": [
        "\n",
        "\n",
        "---\n",
        "\n"
      ],
      "metadata": {
        "id": "i_95HxrGWEn6"
      }
    },
    {
      "cell_type": "markdown",
      "source": [
        "## Data Preprocess"
      ],
      "metadata": {
        "id": "QeaU7sdSh6ZN"
      }
    },
    {
      "cell_type": "markdown",
      "source": [
        "#### Load datasets"
      ],
      "metadata": {
        "id": "W5wEcrLnizzn"
      }
    },
    {
      "cell_type": "markdown",
      "source": [
        "#### Load corpus, vocab, fertility label"
      ],
      "metadata": {
        "id": "2Gzh5e4biumL"
      }
    },
    {
      "cell_type": "code",
      "source": [
        "import pickle\n",
        "\n",
        "with open('train_ft_bpe.pkl', 'rb') as file:\n",
        "     ft = pickle.load(file)\n",
        "\n",
        "with open('src_vocab.pkl', 'rb') as file:\n",
        "     src_vocab = pickle.load(file)\n",
        "\n",
        "with open('tgt_vocab.pkl','rb') as file:\n",
        "     tgt_vocab = pickle.load(file)"
      ],
      "metadata": {
        "id": "EStxt7vADwEy"
      },
      "execution_count": 185,
      "outputs": []
    },
    {
      "cell_type": "code",
      "source": [
        "## BPE tokenized\n",
        "\n",
        "bpe_de= read_txt('bpe_de.txt')\n",
        "bpe_en= read_txt('bpe_en.txt')"
      ],
      "metadata": {
        "id": "kmj2z1L_E_2r"
      },
      "execution_count": 186,
      "outputs": []
    },
    {
      "cell_type": "markdown",
      "source": [
        "#### **dataset** preprocess"
      ],
      "metadata": {
        "id": "_IYZSIcPjZPQ"
      }
    },
    {
      "cell_type": "code",
      "source": [
        "de= bpe_de.split('\\n')\n",
        "en= bpe_en.split('\\n')"
      ],
      "metadata": {
        "id": "0cXz57XOFUvK"
      },
      "execution_count": 187,
      "outputs": []
    },
    {
      "cell_type": "code",
      "source": [
        "from collections import Counter\n",
        "lengths= [len(d) for d in de]\n",
        "\n",
        "i = 0\n",
        "for length in lengths:\n",
        "  if length<=512:\n",
        "    i+=1\n",
        "\n",
        "i/len(lengths)\n",
        "\n",
        "## 99% 이상이 512 이상 길이이므로, 512를 max_len으로 사용"
      ],
      "metadata": {
        "colab": {
          "base_uri": "https://localhost:8080/"
        },
        "id": "kQSY5q8lHL-F",
        "outputId": "4ca63d54-96a4-4b60-9469-594aeb0e250d"
      },
      "execution_count": 188,
      "outputs": [
        {
          "output_type": "execute_result",
          "data": {
            "text/plain": [
              "0.9959310779523087"
            ]
          },
          "metadata": {},
          "execution_count": 188
        }
      ]
    },
    {
      "cell_type": "markdown",
      "source": [
        "\n",
        "id로 전환, padding & truncation으로 max_len 통일"
      ],
      "metadata": {
        "id": "wfc6TawPWGqY"
      }
    },
    {
      "cell_type": "code",
      "source": [
        "def tokens_to_ids(text, vocab, max_seq_len=512):\n",
        "    preprocessed = []\n",
        "\n",
        "    for line in text:\n",
        "        tokens = line.split()\n",
        "        ids = [vocab.get(token, vocab.get('[UNK]')) for token in tokens]\n",
        "\n",
        "        preprocessed.append(ids)\n",
        "\n",
        "    return preprocessed"
      ],
      "metadata": {
        "id": "vtxKlo0XFh9S"
      },
      "execution_count": 189,
      "outputs": []
    },
    {
      "cell_type": "code",
      "source": [
        "tokened_de= tokens_to_ids(de, src_vocab)\n",
        "tokened_en= tokens_to_ids(en, tgt_vocab)"
      ],
      "metadata": {
        "id": "H1Ghn45RKCqW"
      },
      "execution_count": 190,
      "outputs": []
    },
    {
      "cell_type": "markdown",
      "source": [
        "####  ⚠️ fertility issue ⚠️\n",
        "\n",
        "fertility 이상한거 해결 해야함, 지금은 일단넘어감"
      ],
      "metadata": {
        "id": "zpYw5btRwF44"
      }
    },
    {
      "cell_type": "code",
      "source": [
        "#shape check (안맞으면 training 안됨)\n",
        "\n",
        "i=0\n",
        "j=0\n",
        "for d, f, e in zip(tokened_de, ft, tokened_en):\n",
        "\n",
        "  if len(d)!=len(f):\n",
        "    i+=1\n",
        "  if sum(f)!=len(e):\n",
        "    j+=1\n",
        "    #print(sum(f),len(e))\n",
        "\n",
        "\n",
        "print(i,j) #일단 버렸음"
      ],
      "metadata": {
        "colab": {
          "base_uri": "https://localhost:8080/"
        },
        "id": "OerrUwRZXtz6",
        "outputId": "dbc343cd-73b0-43c9-916e-9e6dcc9c8625"
      },
      "execution_count": 191,
      "outputs": [
        {
          "output_type": "stream",
          "name": "stdout",
          "text": [
            "1985 77512\n"
          ]
        }
      ]
    },
    {
      "cell_type": "code",
      "source": [
        "data=[]\n",
        "\n",
        "for d, e, f in zip(tokened_de, tokened_en, ft):\n",
        "  if len(d)==len(f) and sum(f)==len(e):\n",
        "    tgt = []\n",
        "    for token_to_repeat,num_repeat in zip(d,f):\n",
        "      tgt.extend([token_to_repeat]*num_repeat)\n",
        "\n",
        "    data.append({'de':d,'en':e ,'tgt': tgt, 'ft':f})"
      ],
      "metadata": {
        "id": "RItZ-rplt1XW"
      },
      "execution_count": 192,
      "outputs": []
    },
    {
      "cell_type": "code",
      "source": [
        "len(data)"
      ],
      "metadata": {
        "colab": {
          "base_uri": "https://localhost:8080/"
        },
        "id": "juTiYQTqY8dA",
        "outputId": "d6276ec7-e0e4-4afc-ff39-c0b22510040c"
      },
      "execution_count": 193,
      "outputs": [
        {
          "output_type": "execute_result",
          "data": {
            "text/plain": [
              "81904"
            ]
          },
          "metadata": {},
          "execution_count": 193
        }
      ]
    },
    {
      "cell_type": "code",
      "source": [
        "data[2]"
      ],
      "metadata": {
        "colab": {
          "base_uri": "https://localhost:8080/"
        },
        "id": "UrcFA08Wxogu",
        "outputId": "78e3bcdc-e5c1-4d56-b1ad-75c95c035ebf"
      },
      "execution_count": 194,
      "outputs": [
        {
          "output_type": "execute_result",
          "data": {
            "text/plain": [
              "{'de': [43, 93, 75, 87, 94, 95, 96, 97, 10, 98, 73, 13],\n",
              " 'en': [2, 44, 89, 90, 52, 85, 59, 91, 35, 6, 92, 55, 93, 94, 15],\n",
              " 'tgt': [43, 43, 43, 93, 87, 87, 94, 95, 95, 96, 97, 97, 10, 73, 13],\n",
              " 'ft': [3, 1, 0, 2, 1, 2, 1, 2, 1, 0, 1, 1]}"
            ]
          },
          "metadata": {},
          "execution_count": 194
        }
      ]
    },
    {
      "cell_type": "markdown",
      "source": [
        "#### ✨ Loader & collate_fn"
      ],
      "metadata": {
        "id": "d2n_1V2Ha7nT"
      }
    },
    {
      "cell_type": "code",
      "source": [
        "# PAD token이 원래 0인데, CE 계산할때 ignore = 0 해주면 fertility 예측값인 0도 무시되서\n",
        "# PAD token의 인덱스를 새로운 값 10135로 바꿔야할거같음 (tgt_vocab은 이보다 짧음)\n",
        "\n",
        "pad_id= len(src_vocab)"
      ],
      "metadata": {
        "id": "beZ8mi4RS9q1"
      },
      "execution_count": 195,
      "outputs": []
    },
    {
      "cell_type": "code",
      "source": [
        "import torch\n",
        "from torch.nn.utils.rnn import pad_sequence\n",
        "\n",
        "def tensor_pad_collate_fn(batch, pad_id=pad_id, max_sequence_length=512):\n",
        "    padded_data = {}\n",
        "\n",
        "    max_lens = {key: min(max(len(item[key]) for item in batch if key in item), max_sequence_length) for key in batch[0].keys()}\n",
        "\n",
        "    for key in batch[0].keys():\n",
        "        if key in max_lens:\n",
        "            max_len = max_lens[key]\n",
        "            sequences = [torch.tensor(item[key][:max_len] if len(item[key]) > max_len else item[key] + [pad_id] * (max_len - len(item[key])), dtype=torch.long) for item in batch if key in item]\n",
        "            padded_sequences = pad_sequence(sequences, batch_first=True, padding_value=pad_id)\n",
        "            padded_data[key] = padded_sequences\n",
        "\n",
        "    return padded_data\n"
      ],
      "metadata": {
        "id": "XT2dki7ut30Z"
      },
      "execution_count": 196,
      "outputs": []
    },
    {
      "cell_type": "markdown",
      "source": [
        "##✨ NAT"
      ],
      "metadata": {
        "id": "TuEdbUuISlEH"
      }
    },
    {
      "cell_type": "markdown",
      "source": [
        "위 Encoder, Decoder을 굳이 쓰지 않고 Layer만 가져와서 만들면 됨\n",
        "\n",
        "* NAT 에서는 target sentence가 forward에 사용되지 않음"
      ],
      "metadata": {
        "id": "mif6mVlpYe71"
      }
    },
    {
      "cell_type": "code",
      "source": [
        "class NAT(nn.Module):\n",
        "    def __init__(self, src_vocab_size, tgt_vocab_size, d_model, num_heads, num_layers, d_ff, max_seq_length, dropout):\n",
        "        super(NAT, self).__init__()\n",
        "\n",
        "        self.encoder_embedding = nn.Embedding(src_vocab_size, d_model)\n",
        "        self.decoder_embedding = nn.Embedding(src_vocab_size, d_model) ## NAT니까 !?\n",
        "        self.positional_encoding = PositionalEncoding(d_model, max_seq_length)\n",
        "\n",
        "        self.encoder_layers = nn.ModuleList([EncoderLayer(d_model, num_heads, d_ff, dropout) for _ in range(num_layers)])\n",
        "        self.decoder_layers = nn.ModuleList([NAT_DecoderLayer(d_model, num_heads, d_ff, dropout) for _ in range(num_layers)])\n",
        "\n",
        "        self.fc = nn.Linear(d_model, tgt_vocab_size) #ENC -> DEC -> output\n",
        "        self.fertility = nn.Linear(d_model, 50) #for ENC -> fertility, L=50 form paper\n",
        "\n",
        "        self.dropout = nn.Dropout(dropout)\n",
        "\n",
        "\n",
        "    def generate_mask(self, src, tgt):\n",
        "\n",
        "        src_mask = (src != 0).unsqueeze(1).unsqueeze(2)\n",
        "\n",
        "        tgt_length = tgt.size(1)\n",
        "        diag_mask = ~torch.eye(tgt_length, tgt_length).bool()\n",
        "\n",
        "        # 각각 torch.Size([1, 1, 1, src.size(1)]) torch.Size([tgt_length, tgt_length])\n",
        "        return src_mask, diag_mask\n",
        "\n",
        "\n",
        "    def forward(self, src, tgt, ft=None):\n",
        "        src_mask, tgt_mask = self.generate_mask(src, tgt)\n",
        "        src_embedded = self.dropout(self.positional_encoding(self.encoder_embedding(src)))\n",
        "        tgt_embedded = self.dropout(self.positional_encoding(self.decoder_embedding(tgt)))\n",
        "\n",
        "        enc_output = src_embedded\n",
        "        for enc_layer in self.encoder_layers:\n",
        "            enc_output = enc_layer(enc_output, src_mask)\n",
        "\n",
        "        dec_output = tgt_embedded\n",
        "        for dec_layer in self.decoder_layers:\n",
        "            dec_output = dec_layer(dec_output, enc_output, src_mask, tgt_mask)\n",
        "\n",
        "        output = self.fc(dec_output)\n",
        "\n",
        "        return output"
      ],
      "metadata": {
        "id": "XTJxcQklVDRT"
      },
      "execution_count": 205,
      "outputs": []
    },
    {
      "cell_type": "code",
      "source": [
        "src_vocab_size = len(src_vocab)+1 # pad를 len(src_vocab)으로 지정했음!! (fertility 예측값인 0과 혼동 방지용)\n",
        "tgt_vocab_size = len(tgt_vocab)\n",
        "d_model = 512\n",
        "num_heads = 8\n",
        "num_layers = 6\n",
        "d_ff = 2048\n",
        "max_seq_length = 512\n",
        "dropout = 0.1\n",
        "\n",
        "nat = NAT(src_vocab_size, tgt_vocab_size, d_model, num_heads, num_layers, d_ff, max_seq_length, dropout)\n",
        "device = torch.device(\"cuda\")\n",
        "#device = torch.device(\"cpu\") ## @@ 디버깅용\n",
        "nat.to(device)\n",
        "\n",
        "print(device)"
      ],
      "metadata": {
        "colab": {
          "base_uri": "https://localhost:8080/"
        },
        "id": "v90BdXYtz0_T",
        "outputId": "86eba5f8-07d9-4841-8db2-11c620100ff7"
      },
      "execution_count": 206,
      "outputs": [
        {
          "output_type": "stream",
          "name": "stdout",
          "text": [
            "cuda\n"
          ]
        }
      ]
    },
    {
      "cell_type": "markdown",
      "source": [
        "\n",
        "\n",
        "---\n",
        "\n"
      ],
      "metadata": {
        "id": "R60kzEmzSjfn"
      }
    },
    {
      "cell_type": "markdown",
      "source": [
        "## ✨ NAT Training"
      ],
      "metadata": {
        "id": "96rYUvOOzp4B"
      }
    },
    {
      "cell_type": "code",
      "source": [
        "from torch.utils.data import DataLoader\n",
        "\n",
        "batch_size = 32\n",
        "criterion = nn.CrossEntropyLoss(ignore_index=10135)\n",
        "optimizer = optim.Adam(nat.parameters(), lr=0.0001, betas=(0.9, 0.98), eps=1e-9)\n",
        "train_loader = DataLoader(data, batch_size=batch_size, shuffle=True, collate_fn= tensor_pad_collate_fn)"
      ],
      "metadata": {
        "id": "nN3_8IENTkPD"
      },
      "execution_count": 208,
      "outputs": []
    },
    {
      "cell_type": "markdown",
      "source": [
        "#### wandb"
      ],
      "metadata": {
        "id": "TGm1E0vqX1p_"
      }
    },
    {
      "cell_type": "code",
      "source": [
        "%%capture\n",
        "!pip install wandb -qU"
      ],
      "metadata": {
        "id": "opS-TPxvYcc-"
      },
      "execution_count": 214,
      "outputs": []
    },
    {
      "cell_type": "code",
      "source": [
        "import wandb\n",
        "wandb.login()\n",
        "\n",
        "wandb.init(project='nat-first-training')\n",
        "wandb.watch(nat, criterion, log=\"all\", log_freq=100) #log_freq가 log 남기는 주기\n",
        "\n",
        "#10 batch면 3200데이터마다 loss 찍음 = 에폭당 50번 정도..?! 말이 안되는뎅\n",
        "#GPT는 10 step이라고 함. = 320데이터마다 loss = 에폭당 500번."
      ],
      "metadata": {
        "colab": {
          "base_uri": "https://localhost:8080/",
          "height": 241
        },
        "id": "5UPsVgHaX2bH",
        "outputId": "5970cf95-4a27-4efb-ebd2-7e39627d1328"
      },
      "execution_count": 215,
      "outputs": [
        {
          "output_type": "display_data",
          "data": {
            "text/plain": [
              "<IPython.core.display.Javascript object>"
            ],
            "application/javascript": [
              "\n",
              "        window._wandbApiKey = new Promise((resolve, reject) => {\n",
              "            function loadScript(url) {\n",
              "            return new Promise(function(resolve, reject) {\n",
              "                let newScript = document.createElement(\"script\");\n",
              "                newScript.onerror = reject;\n",
              "                newScript.onload = resolve;\n",
              "                document.body.appendChild(newScript);\n",
              "                newScript.src = url;\n",
              "            });\n",
              "            }\n",
              "            loadScript(\"https://cdn.jsdelivr.net/npm/postmate/build/postmate.min.js\").then(() => {\n",
              "            const iframe = document.createElement('iframe')\n",
              "            iframe.style.cssText = \"width:0;height:0;border:none\"\n",
              "            document.body.appendChild(iframe)\n",
              "            const handshake = new Postmate({\n",
              "                container: iframe,\n",
              "                url: 'https://wandb.ai/authorize'\n",
              "            });\n",
              "            const timeout = setTimeout(() => reject(\"Couldn't auto authenticate\"), 5000)\n",
              "            handshake.then(function(child) {\n",
              "                child.on('authorize', data => {\n",
              "                    clearTimeout(timeout)\n",
              "                    resolve(data)\n",
              "                });\n",
              "            });\n",
              "            })\n",
              "        });\n",
              "    "
            ]
          },
          "metadata": {}
        },
        {
          "output_type": "stream",
          "name": "stderr",
          "text": [
            "\u001b[34m\u001b[1mwandb\u001b[0m: Logging into wandb.ai. (Learn how to deploy a W&B server locally: https://wandb.me/wandb-server)\n",
            "\u001b[34m\u001b[1mwandb\u001b[0m: You can find your API key in your browser here: https://wandb.ai/authorize\n",
            "wandb: Paste an API key from your profile and hit enter, or press ctrl+c to quit:"
          ]
        },
        {
          "name": "stdout",
          "output_type": "stream",
          "text": [
            " ··········\n"
          ]
        },
        {
          "output_type": "stream",
          "name": "stderr",
          "text": [
            "\u001b[34m\u001b[1mwandb\u001b[0m: Appending key for api.wandb.ai to your netrc file: /root/.netrc\n",
            "\u001b[34m\u001b[1mwandb\u001b[0m: Currently logged in as: \u001b[33miorad\u001b[0m (\u001b[33mabcd_team\u001b[0m). Use \u001b[1m`wandb login --relogin`\u001b[0m to force relogin\n"
          ]
        },
        {
          "output_type": "display_data",
          "data": {
            "text/plain": [
              "<IPython.core.display.HTML object>"
            ],
            "text/html": [
              "Tracking run with wandb version 0.16.1"
            ]
          },
          "metadata": {}
        },
        {
          "output_type": "display_data",
          "data": {
            "text/plain": [
              "<IPython.core.display.HTML object>"
            ],
            "text/html": [
              "Run data is saved locally in <code>/content/wandb/run-20240102_134256-1pekwahf</code>"
            ]
          },
          "metadata": {}
        },
        {
          "output_type": "display_data",
          "data": {
            "text/plain": [
              "<IPython.core.display.HTML object>"
            ],
            "text/html": [
              "Syncing run <strong><a href='https://wandb.ai/abcd_team/nat-first-training/runs/1pekwahf' target=\"_blank\">vital-sea-1</a></strong> to <a href='https://wandb.ai/abcd_team/nat-first-training' target=\"_blank\">Weights & Biases</a> (<a href='https://wandb.me/run' target=\"_blank\">docs</a>)<br/>"
            ]
          },
          "metadata": {}
        },
        {
          "output_type": "display_data",
          "data": {
            "text/plain": [
              "<IPython.core.display.HTML object>"
            ],
            "text/html": [
              " View project at <a href='https://wandb.ai/abcd_team/nat-first-training' target=\"_blank\">https://wandb.ai/abcd_team/nat-first-training</a>"
            ]
          },
          "metadata": {}
        },
        {
          "output_type": "display_data",
          "data": {
            "text/plain": [
              "<IPython.core.display.HTML object>"
            ],
            "text/html": [
              " View run at <a href='https://wandb.ai/abcd_team/nat-first-training/runs/1pekwahf' target=\"_blank\">https://wandb.ai/abcd_team/nat-first-training/runs/1pekwahf</a>"
            ]
          },
          "metadata": {}
        },
        {
          "output_type": "execute_result",
          "data": {
            "text/plain": [
              "[]"
            ]
          },
          "metadata": {},
          "execution_count": 215
        }
      ]
    },
    {
      "cell_type": "markdown",
      "source": [
        "Training loop"
      ],
      "metadata": {
        "id": "FbbgGm7rYe5A"
      }
    },
    {
      "cell_type": "code",
      "source": [
        "#1 Epoch에 6분 46초, loss 4.3 (data 버린것 수정하면 12분 정도 예상)\n",
        "#wandb 써서 느려진건지? 16분에 1 에폭 돌았다. 낼 다시 돌려보죠\n",
        "#일단 초반 loss 변화는 무난한거같당\n",
        "\n",
        "nat.train()\n",
        "\n",
        "for epoch in range(10):\n",
        "\n",
        "    for i, batch in enumerate(train_loader):\n",
        "\n",
        "      src_data = batch['de'].to(device)\n",
        "      copied_src = batch['tgt'].to(device)\n",
        "      tgt_data = batch['en'].to(device)\n",
        "      #print(src_data.shape, copied_src.shape, tgt_data.shape)\n",
        "\n",
        "      optimizer.zero_grad()\n",
        "      output = nat(src_data, copied_src)\n",
        "\n",
        "      loss = criterion(output.contiguous().view(-1, tgt_vocab_size), tgt_data.contiguous().view(-1))\n",
        "      wandb.log({\"CE loss\": loss.item()})\n",
        "      loss.backward()\n",
        "      optimizer.step()\n",
        "\n",
        "    print(f\"Epoch: {epoch+1}, Loss: {loss.item()}\")"
      ],
      "metadata": {
        "id": "HXYqwqu-zbQD"
      },
      "execution_count": 217,
      "outputs": []
    },
    {
      "cell_type": "code",
      "source": [
        "#필요하면 저장\n",
        "#torch.save(nat.state_dict(), 'nat_epoch10')"
      ],
      "metadata": {
        "id": "O9_h6JV8aq_4"
      },
      "execution_count": null,
      "outputs": []
    },
    {
      "cell_type": "markdown",
      "source": [
        "\n",
        "\n",
        "---\n",
        "\n"
      ],
      "metadata": {
        "id": "sY-kDTMAaPs_"
      }
    },
    {
      "cell_type": "markdown",
      "source": [
        "## Encoder fc (fertility) Training (따로 진행)\n",
        "\n",
        "다른 부분 다 학습 안되게 freeze 해두고 진행 (training code도 손봐야할듯)"
      ],
      "metadata": {
        "id": "rhTVzcOZLStu"
      }
    },
    {
      "cell_type": "code",
      "source": [
        "# criterion = nn.CrossEntropyLoss(ignore_index=pad_id) # pad_id: special token index / softmax 계산을 내장하므로 unnormalized logits(scroes) 그대로 씀..!!\n",
        "# optimizer = optim.Adam(encoder.parameters(), lr=0.01, betas=(0.9, 0.98), eps=1e-9)\n",
        "# train_loader = DataLoader(data, batch_size=batch_size, shuffle=True, collate_fn= tensor_pad_collate_fn)\n",
        "\n",
        "# encoder.train()\n",
        "\n",
        "# for epoch in range(20):\n",
        "\n",
        "#     for i, batch in enumerate(train_loader):\n",
        "\n",
        "#         src = batch['de'].to(device)\n",
        "#         ft_label = batch['ft'].to(device)\n",
        "\n",
        "#         optimizer.zero_grad()\n",
        "\n",
        "#         output = encoder(src)\n",
        "\n",
        "#         # L= 50 (fertility 범위: 0~49) from paper\n",
        "#         loss = criterion(output.contiguous().view(-1,50), ft_label.contiguous().view(-1))\n",
        "\n",
        "#         loss.backward()\n",
        "\n",
        "#         optimizer.step()\n",
        "\n",
        "\n",
        "#     print(f\"Epoch: {epoch+1}, Loss: {loss.item()}\")"
      ],
      "metadata": {
        "id": "qN9ouQvbLUPj"
      },
      "execution_count": 218,
      "outputs": []
    },
    {
      "cell_type": "code",
      "source": [
        "#torch.save(encoder.state_dict(), 'NATencoder_epoch20')"
      ],
      "metadata": {
        "id": "XN8GrKGIbOCx"
      },
      "execution_count": 219,
      "outputs": []
    },
    {
      "cell_type": "markdown",
      "source": [
        "lr 낮추니까 CE loss는 확 줄어드는데, 여전히 1 Epoch 안되서 빠르게 수렴해버림\n",
        "\n",
        "(한 Epoch을 다 돌지 않았을 때는 Epoch내 데이터의 loss는 validation loss나 마찬가진데도)"
      ],
      "metadata": {
        "id": "ppfCS4yto2nK"
      }
    },
    {
      "cell_type": "markdown",
      "source": [
        "### Example (참고용, transformer)"
      ],
      "metadata": {
        "id": "t4rEsc-PXnA3"
      }
    },
    {
      "cell_type": "code",
      "source": [
        "src_vocab_size = 5000\n",
        "tgt_vocab_size = 5000\n",
        "d_model = 512\n",
        "num_heads = 8\n",
        "num_layers = 6\n",
        "d_ff = 2048\n",
        "max_seq_length = 5\n",
        "dropout = 0.1\n",
        "\n",
        "transformer = Transformer(src_vocab_size, tgt_vocab_size, d_model, num_heads, num_layers, d_ff, max_seq_length, dropout)\n",
        "\n",
        "# Generate random sample data\n",
        "src_data = torch.randint(1, src_vocab_size, (16, max_seq_length))  # (batch_size, seq_length)\n",
        "tgt_data = torch.randint(1, tgt_vocab_size, (16, max_seq_length))  # (batch_size, seq_length)"
      ],
      "metadata": {
        "id": "K1A-xg48TvAH"
      },
      "execution_count": 219,
      "outputs": []
    },
    {
      "cell_type": "code",
      "source": [
        "criterion = nn.CrossEntropyLoss(ignore_index=0) #0: special token / softmax 계산을 내장하므로 unnormalized logits(scroes) 그대로 씀..!!\n",
        "optimizer = optim.Adam(transformer.parameters(), lr=0.0001, betas=(0.9, 0.98), eps=1e-9)\n",
        "\n",
        "transformer.train()\n",
        "\n",
        "for epoch in range(100):\n",
        "    optimizer.zero_grad()\n",
        "    output = transformer(src_data, tgt_data)\n",
        "\n",
        "    loss = criterion(output.contiguous().view(-1,tgt_vocab_size), tgt_data.contiguous().view(-1))\n",
        "\n",
        "    # print(output.contiguous().view(-1,tgt_vocab_size).shape, tgt_data.contiguous().view(-1).shape)\n",
        "    # print('loss',loss)\n",
        "    loss.backward()\n",
        "    optimizer.step()\n",
        "    # break\n",
        "    print(f\"Epoch: {epoch+1}, Loss: {loss.item()}\")"
      ],
      "metadata": {
        "id": "Axt6htQBTxfG"
      },
      "execution_count": 219,
      "outputs": []
    }
  ]
}