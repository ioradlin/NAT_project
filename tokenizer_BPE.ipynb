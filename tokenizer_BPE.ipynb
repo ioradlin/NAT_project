{
  "nbformat": 4,
  "nbformat_minor": 0,
  "metadata": {
    "colab": {
      "provenance": [],
      "authorship_tag": "ABX9TyP9J1nHSpVvQI5FtELn1X0Q",
      "include_colab_link": true
    },
    "kernelspec": {
      "name": "python3",
      "display_name": "Python 3"
    },
    "language_info": {
      "name": "python"
    }
  },
  "cells": [
    {
      "cell_type": "markdown",
      "metadata": {
        "id": "view-in-github",
        "colab_type": "text"
      },
      "source": [
        "<a href=\"https://colab.research.google.com/github/iorueda/test/blob/main/tokenizer_BPE.ipynb\" target=\"_parent\"><img src=\"https://colab.research.google.com/assets/colab-badge.svg\" alt=\"Open In Colab\"/></a>"
      ]
    },
    {
      "cell_type": "code",
      "source": [
        "from tokenizers import Tokenizer, models, trainers\n",
        "\n",
        "# Initialize a BPE tokenizer\n",
        "tokenizer = Tokenizer(models.BPE())\n",
        "\n",
        "# Example corpus (replace this with your own text data)\n",
        "corpus = [\n",
        "    \"This is the first example sentence.\",\n",
        "    \"And here is the second example sentence.\"\n",
        "]\n",
        "\n",
        "# Train the tokenizer on your corpus\n",
        "trainer = trainers.BpeTrainer(special_tokens=[\"[UNK]\", \"[CLS]\", \"[SEP]\", \"[PAD]\", \"[MASK]\"])  # Define special tokens\n",
        "tokenizer.train_from_iterator(corpus, trainer=trainer)\n",
        "\n",
        "# Save the trained tokenizer to a file\n",
        "tokenizer.save(\"my_trained_tokenizer.json\")\n",
        "\n",
        "# Example string to encode\n",
        "text_to_encode = \"This is an example sentence for subword tokenization.\"\n",
        "\n",
        "# Encode the string into token IDs using the trained tokenizer\n",
        "encoded = tokenizer.encode(text_to_encode)\n",
        "print(\"Tokens:\", encoded.tokens)\n",
        "print(\"Token IDs:\", encoded.ids)"
      ],
      "metadata": {
        "colab": {
          "base_uri": "https://localhost:8080/"
        },
        "id": "vt1N2KaUXOaV",
        "outputId": "d7425450-ec1c-4558-feb8-6ac74060e0d8"
      },
      "execution_count": 4,
      "outputs": [
        {
          "output_type": "stream",
          "name": "stdout",
          "text": [
            "Tokens: ['Th', 'is ', 'is ', 'a', 'n', ' example senten', 'c', 'e ', 'f', 'o', 'r', ' ', 's', 'o', 'r', 'd', ' ', 't', 'o', 'en', 'i', 'a', 't', 'i', 'o', 'n', '.']\n",
            "Token IDs: [48, 29, 29, 9, 18, 44, 10, 25, 13, 19, 21, 5, 22, 19, 21, 11, 5, 23, 19, 26, 15, 9, 23, 15, 19, 18, 6]\n"
          ]
        }
      ]
    }
  ]
}