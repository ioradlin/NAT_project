{
  "cells": [
    {
      "cell_type": "markdown",
      "metadata": {
        "id": "view-in-github",
        "colab_type": "text"
      },
      "source": [
        "<a href=\"https://colab.research.google.com/github/ioradlin/NAT_project/blob/main/%5Bfairseq%5D1_9NAT.ipynb\" target=\"_parent\"><img src=\"https://colab.research.google.com/assets/colab-badge.svg\" alt=\"Open In Colab\"/></a>"
      ]
    },
    {
      "cell_type": "code",
      "execution_count": null,
      "metadata": {
        "colab": {
          "base_uri": "https://localhost:8080/"
        },
        "id": "FI8ezPI_BevB",
        "outputId": "bf172f2f-f389-4852-823f-ba1b2bbdb66e"
      },
      "outputs": [
        {
          "name": "stdout",
          "output_type": "stream",
          "text": [
            "Collecting fairseq\n",
            "  Downloading fairseq-0.12.2.tar.gz (9.6 MB)\n",
            "\u001b[2K     \u001b[90m━━━━━━━━━━━━━━━━━━━━━━━━━━━━━━━━━━━━━━━━\u001b[0m \u001b[32m9.6/9.6 MB\u001b[0m \u001b[31m20.0 MB/s\u001b[0m eta \u001b[36m0:00:00\u001b[0m\n",
            "\u001b[?25h  Installing build dependencies ... \u001b[?25l\u001b[?25hdone\n",
            "  Getting requirements to build wheel ... \u001b[?25l\u001b[?25hdone\n",
            "  Installing backend dependencies ... \u001b[?25l\u001b[?25hdone\n",
            "  Preparing metadata (pyproject.toml) ... \u001b[?25l\u001b[?25hdone\n",
            "Requirement already satisfied: cffi in /usr/local/lib/python3.10/dist-packages (from fairseq) (1.16.0)\n",
            "Requirement already satisfied: cython in /usr/local/lib/python3.10/dist-packages (from fairseq) (3.0.7)\n",
            "Collecting hydra-core<1.1,>=1.0.7 (from fairseq)\n",
            "  Downloading hydra_core-1.0.7-py3-none-any.whl (123 kB)\n",
            "\u001b[2K     \u001b[90m━━━━━━━━━━━━━━━━━━━━━━━━━━━━━━━━━━━━━━━━\u001b[0m \u001b[32m123.8/123.8 kB\u001b[0m \u001b[31m17.0 MB/s\u001b[0m eta \u001b[36m0:00:00\u001b[0m\n",
            "\u001b[?25hCollecting omegaconf<2.1 (from fairseq)\n",
            "  Downloading omegaconf-2.0.6-py3-none-any.whl (36 kB)\n",
            "Requirement already satisfied: regex in /usr/local/lib/python3.10/dist-packages (from fairseq) (2023.6.3)\n",
            "Collecting sacrebleu>=1.4.12 (from fairseq)\n",
            "  Downloading sacrebleu-2.4.0-py3-none-any.whl (106 kB)\n",
            "\u001b[2K     \u001b[90m━━━━━━━━━━━━━━━━━━━━━━━━━━━━━━━━━━━━━━━━\u001b[0m \u001b[32m106.3/106.3 kB\u001b[0m \u001b[31m15.1 MB/s\u001b[0m eta \u001b[36m0:00:00\u001b[0m\n",
            "\u001b[?25hRequirement already satisfied: torch in /usr/local/lib/python3.10/dist-packages (from fairseq) (2.1.0+cu121)\n",
            "Requirement already satisfied: tqdm in /usr/local/lib/python3.10/dist-packages (from fairseq) (4.66.1)\n",
            "Collecting bitarray (from fairseq)\n",
            "  Downloading bitarray-2.9.2-cp310-cp310-manylinux_2_17_x86_64.manylinux2014_x86_64.whl (288 kB)\n",
            "\u001b[2K     \u001b[90m━━━━━━━━━━━━━━━━━━━━━━━━━━━━━━━━━━━━━━━━\u001b[0m \u001b[32m288.3/288.3 kB\u001b[0m \u001b[31m29.1 MB/s\u001b[0m eta \u001b[36m0:00:00\u001b[0m\n",
            "\u001b[?25hRequirement already satisfied: torchaudio>=0.8.0 in /usr/local/lib/python3.10/dist-packages (from fairseq) (2.1.0+cu121)\n",
            "Requirement already satisfied: numpy in /usr/local/lib/python3.10/dist-packages (from fairseq) (1.23.5)\n",
            "Collecting antlr4-python3-runtime==4.8 (from hydra-core<1.1,>=1.0.7->fairseq)\n",
            "  Downloading antlr4-python3-runtime-4.8.tar.gz (112 kB)\n",
            "\u001b[2K     \u001b[90m━━━━━━━━━━━━━━━━━━━━━━━━━━━━━━━━━━━━━━━━\u001b[0m \u001b[32m112.4/112.4 kB\u001b[0m \u001b[31m13.6 MB/s\u001b[0m eta \u001b[36m0:00:00\u001b[0m\n",
            "\u001b[?25h  Preparing metadata (setup.py) ... \u001b[?25l\u001b[?25hdone\n",
            "Requirement already satisfied: PyYAML>=5.1.* in /usr/local/lib/python3.10/dist-packages (from omegaconf<2.1->fairseq) (6.0.1)\n",
            "Requirement already satisfied: typing-extensions in /usr/local/lib/python3.10/dist-packages (from omegaconf<2.1->fairseq) (4.5.0)\n",
            "Collecting portalocker (from sacrebleu>=1.4.12->fairseq)\n",
            "  Downloading portalocker-2.8.2-py3-none-any.whl (17 kB)\n",
            "Requirement already satisfied: tabulate>=0.8.9 in /usr/local/lib/python3.10/dist-packages (from sacrebleu>=1.4.12->fairseq) (0.9.0)\n",
            "Collecting colorama (from sacrebleu>=1.4.12->fairseq)\n",
            "  Downloading colorama-0.4.6-py2.py3-none-any.whl (25 kB)\n",
            "Requirement already satisfied: lxml in /usr/local/lib/python3.10/dist-packages (from sacrebleu>=1.4.12->fairseq) (4.9.4)\n",
            "Requirement already satisfied: filelock in /usr/local/lib/python3.10/dist-packages (from torch->fairseq) (3.13.1)\n",
            "Requirement already satisfied: sympy in /usr/local/lib/python3.10/dist-packages (from torch->fairseq) (1.12)\n",
            "Requirement already satisfied: networkx in /usr/local/lib/python3.10/dist-packages (from torch->fairseq) (3.2.1)\n",
            "Requirement already satisfied: jinja2 in /usr/local/lib/python3.10/dist-packages (from torch->fairseq) (3.1.2)\n",
            "Requirement already satisfied: fsspec in /usr/local/lib/python3.10/dist-packages (from torch->fairseq) (2023.6.0)\n",
            "Requirement already satisfied: triton==2.1.0 in /usr/local/lib/python3.10/dist-packages (from torch->fairseq) (2.1.0)\n",
            "Requirement already satisfied: pycparser in /usr/local/lib/python3.10/dist-packages (from cffi->fairseq) (2.21)\n",
            "Requirement already satisfied: MarkupSafe>=2.0 in /usr/local/lib/python3.10/dist-packages (from jinja2->torch->fairseq) (2.1.3)\n",
            "Requirement already satisfied: mpmath>=0.19 in /usr/local/lib/python3.10/dist-packages (from sympy->torch->fairseq) (1.3.0)\n",
            "Building wheels for collected packages: fairseq, antlr4-python3-runtime\n",
            "  Building wheel for fairseq (pyproject.toml) ... \u001b[?25l\u001b[?25hdone\n",
            "  Created wheel for fairseq: filename=fairseq-0.12.2-cp310-cp310-linux_x86_64.whl size=11291803 sha256=01ec843e8609fb573ba16af0546d5435fa3fb8b24d0d6c6308c682147cff2a2e\n",
            "  Stored in directory: /root/.cache/pip/wheels/e4/35/55/9c66f65ec7c83fd6fbc2b9502a0ac81b2448a1196159dacc32\n",
            "  Building wheel for antlr4-python3-runtime (setup.py) ... \u001b[?25l\u001b[?25hdone\n",
            "  Created wheel for antlr4-python3-runtime: filename=antlr4_python3_runtime-4.8-py3-none-any.whl size=141210 sha256=0fbcdbb2f3c4fff27a1dfe409c32af29e6696e74a965ff8e271ed75cbd118edd\n",
            "  Stored in directory: /root/.cache/pip/wheels/a7/20/bd/e1477d664f22d99989fd28ee1a43d6633dddb5cb9e801350d5\n",
            "Successfully built fairseq antlr4-python3-runtime\n",
            "Installing collected packages: bitarray, antlr4-python3-runtime, portalocker, omegaconf, colorama, sacrebleu, hydra-core, fairseq\n",
            "Successfully installed antlr4-python3-runtime-4.8 bitarray-2.9.2 colorama-0.4.6 fairseq-0.12.2 hydra-core-1.0.7 omegaconf-2.0.6 portalocker-2.8.2 sacrebleu-2.4.0\n"
          ]
        }
      ],
      "source": [
        "!pip install fairseq"
      ]
    },
    {
      "cell_type": "code",
      "execution_count": null,
      "metadata": {
        "colab": {
          "base_uri": "https://localhost:8080/"
        },
        "id": "8fJbzqqHBiHW",
        "outputId": "b7843e6f-24fc-4809-d5a0-d0b9048dfce0"
      },
      "outputs": [
        {
          "name": "stdout",
          "output_type": "stream",
          "text": [
            "Requirement already satisfied: fairseq[cuda] in /usr/local/lib/python3.10/dist-packages (0.12.2)\n",
            "\u001b[33mWARNING: fairseq 0.12.2 does not provide the extra 'cuda'\u001b[0m\u001b[33m\n",
            "\u001b[0mRequirement already satisfied: cffi in /usr/local/lib/python3.10/dist-packages (from fairseq[cuda]) (1.16.0)\n",
            "Requirement already satisfied: cython in /usr/local/lib/python3.10/dist-packages (from fairseq[cuda]) (3.0.7)\n",
            "Requirement already satisfied: hydra-core<1.1,>=1.0.7 in /usr/local/lib/python3.10/dist-packages (from fairseq[cuda]) (1.0.7)\n",
            "Requirement already satisfied: omegaconf<2.1 in /usr/local/lib/python3.10/dist-packages (from fairseq[cuda]) (2.0.6)\n",
            "Requirement already satisfied: regex in /usr/local/lib/python3.10/dist-packages (from fairseq[cuda]) (2023.6.3)\n",
            "Requirement already satisfied: sacrebleu>=1.4.12 in /usr/local/lib/python3.10/dist-packages (from fairseq[cuda]) (2.4.0)\n",
            "Requirement already satisfied: torch in /usr/local/lib/python3.10/dist-packages (from fairseq[cuda]) (2.1.0+cu121)\n",
            "Requirement already satisfied: tqdm in /usr/local/lib/python3.10/dist-packages (from fairseq[cuda]) (4.66.1)\n",
            "Requirement already satisfied: bitarray in /usr/local/lib/python3.10/dist-packages (from fairseq[cuda]) (2.9.2)\n",
            "Requirement already satisfied: torchaudio>=0.8.0 in /usr/local/lib/python3.10/dist-packages (from fairseq[cuda]) (2.1.0+cu121)\n",
            "Requirement already satisfied: numpy in /usr/local/lib/python3.10/dist-packages (from fairseq[cuda]) (1.23.5)\n",
            "Requirement already satisfied: antlr4-python3-runtime==4.8 in /usr/local/lib/python3.10/dist-packages (from hydra-core<1.1,>=1.0.7->fairseq[cuda]) (4.8)\n",
            "Requirement already satisfied: PyYAML>=5.1.* in /usr/local/lib/python3.10/dist-packages (from omegaconf<2.1->fairseq[cuda]) (6.0.1)\n",
            "Requirement already satisfied: typing-extensions in /usr/local/lib/python3.10/dist-packages (from omegaconf<2.1->fairseq[cuda]) (4.5.0)\n",
            "Requirement already satisfied: portalocker in /usr/local/lib/python3.10/dist-packages (from sacrebleu>=1.4.12->fairseq[cuda]) (2.8.2)\n",
            "Requirement already satisfied: tabulate>=0.8.9 in /usr/local/lib/python3.10/dist-packages (from sacrebleu>=1.4.12->fairseq[cuda]) (0.9.0)\n",
            "Requirement already satisfied: colorama in /usr/local/lib/python3.10/dist-packages (from sacrebleu>=1.4.12->fairseq[cuda]) (0.4.6)\n",
            "Requirement already satisfied: lxml in /usr/local/lib/python3.10/dist-packages (from sacrebleu>=1.4.12->fairseq[cuda]) (4.9.4)\n",
            "Requirement already satisfied: filelock in /usr/local/lib/python3.10/dist-packages (from torch->fairseq[cuda]) (3.13.1)\n",
            "Requirement already satisfied: sympy in /usr/local/lib/python3.10/dist-packages (from torch->fairseq[cuda]) (1.12)\n",
            "Requirement already satisfied: networkx in /usr/local/lib/python3.10/dist-packages (from torch->fairseq[cuda]) (3.2.1)\n",
            "Requirement already satisfied: jinja2 in /usr/local/lib/python3.10/dist-packages (from torch->fairseq[cuda]) (3.1.2)\n",
            "Requirement already satisfied: fsspec in /usr/local/lib/python3.10/dist-packages (from torch->fairseq[cuda]) (2023.6.0)\n",
            "Requirement already satisfied: triton==2.1.0 in /usr/local/lib/python3.10/dist-packages (from torch->fairseq[cuda]) (2.1.0)\n",
            "Requirement already satisfied: pycparser in /usr/local/lib/python3.10/dist-packages (from cffi->fairseq[cuda]) (2.21)\n",
            "Requirement already satisfied: MarkupSafe>=2.0 in /usr/local/lib/python3.10/dist-packages (from jinja2->torch->fairseq[cuda]) (2.1.3)\n",
            "Requirement already satisfied: mpmath>=0.19 in /usr/local/lib/python3.10/dist-packages (from sympy->torch->fairseq[cuda]) (1.3.0)\n"
          ]
        }
      ],
      "source": [
        "!pip install fairseq[cuda]"
      ]
    },
    {
      "cell_type": "code",
      "execution_count": null,
      "metadata": {
        "colab": {
          "base_uri": "https://localhost:8080/"
        },
        "id": "jY6PWT4Xldzu",
        "outputId": "f1b0a195-1d31-4af3-da3d-23e8f354db9a"
      },
      "outputs": [
        {
          "name": "stdout",
          "output_type": "stream",
          "text": [
            "Mounted at /content/drive\n"
          ]
        }
      ],
      "source": [
        "from google.colab import drive\n",
        "drive.mount('/content/drive')"
      ]
    },
    {
      "cell_type": "code",
      "execution_count": null,
      "metadata": {
        "colab": {
          "base_uri": "https://localhost:8080/"
        },
        "id": "dSEoKKMmHgwv",
        "outputId": "4ed6d584-880c-487c-fb7f-080747712e78"
      },
      "outputs": [
        {
          "name": "stdout",
          "output_type": "stream",
          "text": [
            "Archive:  /content/drive/MyDrive/NAT/data/wmt14_ende_distill.zip\n",
            "   creating: wmt14_ende_distill/\n",
            "  inflating: __MACOSX/._wmt14_ende_distill  \n",
            "  inflating: wmt14_ende_distill/valid.en-de.ori  \n",
            "  inflating: __MACOSX/wmt14_ende_distill/._valid.en-de.ori  \n",
            "  inflating: wmt14_ende_distill/valid.en-de.en  \n",
            "  inflating: __MACOSX/wmt14_ende_distill/._valid.en-de.en  \n",
            "  inflating: wmt14_ende_distill/dict.de.txt  \n",
            "  inflating: __MACOSX/wmt14_ende_distill/._dict.de.txt  \n",
            "  inflating: wmt14_ende_distill/test.de.ori  \n",
            "  inflating: __MACOSX/wmt14_ende_distill/._test.de.ori  \n",
            "  inflating: wmt14_ende_distill/dev.en.ori  \n",
            "  inflating: __MACOSX/wmt14_ende_distill/._dev.en.ori  \n",
            "  inflating: wmt14_ende_distill/valid.en-de.de  \n",
            "  inflating: __MACOSX/wmt14_ende_distill/._valid.en-de.de  \n",
            "  inflating: wmt14_ende_distill/wmt14.bpe.codes  \n",
            "  inflating: __MACOSX/wmt14_ende_distill/._wmt14.bpe.codes  \n",
            "  inflating: wmt14_ende_distill/test.en-de.de  \n",
            "  inflating: __MACOSX/wmt14_ende_distill/._test.en-de.de  \n",
            "  inflating: wmt14_ende_distill/dev.de.ori  \n",
            "  inflating: __MACOSX/wmt14_ende_distill/._dev.de.ori  \n",
            "  inflating: wmt14_ende_distill/train.en-de.de  \n",
            "  inflating: __MACOSX/wmt14_ende_distill/._train.en-de.de  \n",
            "  inflating: wmt14_ende_distill/valid-repeat.en-de.en  \n",
            "  inflating: __MACOSX/wmt14_ende_distill/._valid-repeat.en-de.en  \n",
            "  inflating: wmt14_ende_distill/dict.en.txt  \n",
            "  inflating: __MACOSX/wmt14_ende_distill/._dict.en.txt  \n",
            "  inflating: wmt14_ende_distill/valid-repeat.en-de.de  \n",
            "  inflating: __MACOSX/wmt14_ende_distill/._valid-repeat.en-de.de  \n",
            "  inflating: wmt14_ende_distill/train.en-de.en  \n",
            "  inflating: __MACOSX/wmt14_ende_distill/._train.en-de.en  \n",
            "  inflating: wmt14_ende_distill/test.en.ori  \n",
            "  inflating: __MACOSX/wmt14_ende_distill/._test.en.ori  \n",
            "  inflating: wmt14_ende_distill/test.en-de.en  \n",
            "  inflating: __MACOSX/wmt14_ende_distill/._test.en-de.en  \n"
          ]
        }
      ],
      "source": [
        "!unzip /content/drive/MyDrive/NAT/data/wmt14_ende_distill.zip"
      ]
    },
    {
      "cell_type": "markdown",
      "metadata": {
        "id": "ynQTAyOVWWnl"
      },
      "source": [
        "#### fairseq 관련 중요한 사실들"
      ]
    },
    {
      "cell_type": "markdown",
      "metadata": {
        "id": "7OTxw6_mY8Ov"
      },
      "source": [
        "* fairseq는 기본적으로 (bpe) tokenized 된 input을 받으며\n",
        "\n",
        "    https://lightrun.com/answers/facebookresearch-fairseq-how-to-train-a-simple-vanilla-transformers-translation-model-from-scratch-with-fairseq (bpe 사용)\n",
        "\n",
        "    https://mklimasz.github.io/blog/2023/fariseq-101-train-a-model/ (fairseq training  tutorial)\n",
        "\n",
        "* fairseq-preprocess를 통해 binarized됐다면 .idx과 .bin의 파일들이 생겨야함"
      ]
    },
    {
      "cell_type": "markdown",
      "metadata": {
        "id": "Mpz1ttJ2fHUt"
      },
      "source": [
        "joined-dictionary를 넣을경우 src_dict와 tgt_dict는 함께 쓰지 못함 (joined or dict들 or only_src)\n"
      ]
    },
    {
      "cell_type": "markdown",
      "metadata": {
        "id": "1UiHQTqfkVVr"
      },
      "source": [
        "**40분** 이상 걸립니다"
      ]
    },
    {
      "cell_type": "code",
      "execution_count": null,
      "metadata": {
        "colab": {
          "base_uri": "https://localhost:8080/"
        },
        "id": "b6ICEi92WMJr",
        "outputId": "d8fbfcad-b795-4137-8704-a3777223699b"
      },
      "outputs": [
        {
          "name": "stdout",
          "output_type": "stream",
          "text": [
            "2024-01-09 09:51:27.265387: E external/local_xla/xla/stream_executor/cuda/cuda_dnn.cc:9261] Unable to register cuDNN factory: Attempting to register factory for plugin cuDNN when one has already been registered\n",
            "2024-01-09 09:51:27.265459: E external/local_xla/xla/stream_executor/cuda/cuda_fft.cc:607] Unable to register cuFFT factory: Attempting to register factory for plugin cuFFT when one has already been registered\n",
            "2024-01-09 09:51:27.267026: E external/local_xla/xla/stream_executor/cuda/cuda_blas.cc:1515] Unable to register cuBLAS factory: Attempting to register factory for plugin cuBLAS when one has already been registered\n",
            "2024-01-09 09:51:27.277061: I tensorflow/core/platform/cpu_feature_guard.cc:182] This TensorFlow binary is optimized to use available CPU instructions in performance-critical operations.\n",
            "To enable the following instructions: AVX2 FMA, in other operations, rebuild TensorFlow with the appropriate compiler flags.\n",
            "2024-01-09 09:51:28.813447: W tensorflow/compiler/tf2tensorrt/utils/py_utils.cc:38] TF-TRT Warning: Could not find TensorRT\n",
            "2024-01-09 09:51:32 | INFO | fairseq.tasks.text_to_speech | Please install tensorboardX: pip install tensorboardX\n",
            "2024-01-09 09:51:33 | INFO | fairseq_cli.preprocess | Namespace(no_progress_bar=False, log_interval=100, log_format=None, log_file=None, aim_repo=None, aim_run_hash=None, tensorboard_logdir=None, wandb_project=None, azureml_logging=False, seed=1, cpu=False, tpu=False, bf16=False, memory_efficient_bf16=False, fp16=False, memory_efficient_fp16=False, fp16_no_flatten_grads=False, fp16_init_scale=128, fp16_scale_window=None, fp16_scale_tolerance=0.0, on_cpu_convert_precision=False, min_loss_scale=0.0001, threshold_loss_scale=None, amp=False, amp_batch_retries=2, amp_init_scale=128, amp_scale_window=None, user_dir=None, empty_cache_freq=0, all_gather_list_size=16384, model_parallel_size=1, quantization_config_path=None, profile=False, reset_logging=False, suppress_crashes=False, use_plasma_view=False, plasma_path='/tmp/plasma', criterion='cross_entropy', tokenizer=None, bpe=None, optimizer=None, lr_scheduler='fixed', scoring='bleu', task='translation', source_lang='en', target_lang='de', trainpref='/content/wmt14_ende_distill/train.en-de', validpref='/content/wmt14_ende_distill/valid.en-de', testpref='/content/wmt14_ende_distill/test.en-de', align_suffix=None, destdir='/content/drive/MyDrive/NAT/data/fairseq_preprocessed', thresholdtgt=0, thresholdsrc=0, tgtdict=None, srcdict=None, nwordstgt=-1, nwordssrc=-1, alignfile=None, dataset_impl='mmap', joined_dictionary=True, only_source=False, padding_factor=8, workers=4, dict_only=False)\n",
            "2024-01-09 10:00:02 | INFO | fairseq_cli.preprocess | [en] Dictionary: 39840 types\n",
            "2024-01-09 10:17:13 | INFO | fairseq_cli.preprocess | [en] /content/wmt14_ende_distill/train.en-de.en: 3961179 sents, 117298183 tokens, 0.0% replaced (by <unk>)\n",
            "2024-01-09 10:17:13 | INFO | fairseq_cli.preprocess | [en] Dictionary: 39840 types\n",
            "2024-01-09 10:17:15 | INFO | fairseq_cli.preprocess | [en] /content/wmt14_ende_distill/valid.en-de.en: 3000 sents, 77485 tokens, 0.0% replaced (by <unk>)\n",
            "2024-01-09 10:17:15 | INFO | fairseq_cli.preprocess | [en] Dictionary: 39840 types\n",
            "2024-01-09 10:17:17 | INFO | fairseq_cli.preprocess | [en] /content/wmt14_ende_distill/test.en-de.en: 3003 sents, 81887 tokens, 0.0% replaced (by <unk>)\n",
            "2024-01-09 10:17:17 | INFO | fairseq_cli.preprocess | [de] Dictionary: 39840 types\n",
            "2024-01-09 10:34:12 | INFO | fairseq_cli.preprocess | [de] /content/wmt14_ende_distill/train.en-de.de: 3961179 sents, 118248088 tokens, 0.0% replaced (by <unk>)\n",
            "2024-01-09 10:34:12 | INFO | fairseq_cli.preprocess | [de] Dictionary: 39840 types\n",
            "2024-01-09 10:34:13 | INFO | fairseq_cli.preprocess | [de] /content/wmt14_ende_distill/valid.en-de.de: 3000 sents, 80102 tokens, 0.0% replaced (by <unk>)\n",
            "2024-01-09 10:34:13 | INFO | fairseq_cli.preprocess | [de] Dictionary: 39840 types\n",
            "2024-01-09 10:34:14 | INFO | fairseq_cli.preprocess | [de] /content/wmt14_ende_distill/test.en-de.de: 3003 sents, 85579 tokens, 0.904% replaced (by <unk>)\n",
            "2024-01-09 10:34:14 | INFO | fairseq_cli.preprocess | Wrote preprocessed data to /content/drive/MyDrive/NAT/data/fairseq_preprocessed\n"
          ]
        }
      ],
      "source": [
        "\n",
        "## 혹시 dictionary 무시하고 새로 joined-dictionary를 만들면 되는건가?\n",
        "## \"fairseq-preprocess assumes that the input is already subword-encoded.\" 엥 ??\n",
        "## + srcdict 커맨드에 안넣으면 알아서 만들어준다(?)\n",
        "\n",
        "preprocess=\"\"\"\n",
        "fairseq-preprocess \\\n",
        "    --source-lang en \\\n",
        "    --target-lang de \\\n",
        "    --trainpref /content/wmt14_ende_distill/train.en-de \\\n",
        "    --validpref /content/wmt14_ende_distill/valid.en-de \\\n",
        "    --testpref  /content/wmt14_ende_distill/test.en-de \\\n",
        "    --destdir   /content/drive/MyDrive/NAT/data/fairseq_preprocessed \\\n",
        "    --joined-dictionary \\\n",
        "    --workers 4\"\"\"\n",
        "\n",
        "!{preprocess}"
      ]
    },
    {
      "cell_type": "markdown",
      "metadata": {
        "id": "Z_jugnlMgIoN"
      },
      "source": [
        "어차피 만들어지는거면 왜 헷갈리게 dict.de.txt 를 이미 넣어둔거즤...???"
      ]
    },
    {
      "cell_type": "markdown",
      "metadata": {
        "id": "-Ti0DomBeE3Q"
      },
      "source": [
        "#### train"
      ]
    },
    {
      "cell_type": "code",
      "execution_count": null,
      "metadata": {
        "colab": {
          "background_save": true,
          "base_uri": "https://localhost:8080/"
        },
        "id": "l7a_sFQ4KVB8",
        "outputId": "2c7fa88c-2194-4371-be6e-ab0ad92c02b6"
      },
      "outputs": [
        {
          "name": "stdout",
          "output_type": "stream",
          "text": [
            "2024-01-09 10:52:43.768048: E external/local_xla/xla/stream_executor/cuda/cuda_dnn.cc:9261] Unable to register cuDNN factory: Attempting to register factory for plugin cuDNN when one has already been registered\n",
            "2024-01-09 10:52:43.768108: E external/local_xla/xla/stream_executor/cuda/cuda_fft.cc:607] Unable to register cuFFT factory: Attempting to register factory for plugin cuFFT when one has already been registered\n",
            "2024-01-09 10:52:43.770118: E external/local_xla/xla/stream_executor/cuda/cuda_blas.cc:1515] Unable to register cuBLAS factory: Attempting to register factory for plugin cuBLAS when one has already been registered\n",
            "2024-01-09 10:52:43.780659: I tensorflow/core/platform/cpu_feature_guard.cc:182] This TensorFlow binary is optimized to use available CPU instructions in performance-critical operations.\n",
            "To enable the following instructions: AVX2 FMA, in other operations, rebuild TensorFlow with the appropriate compiler flags.\n",
            "2024-01-09 10:52:45.394541: W tensorflow/compiler/tf2tensorrt/utils/py_utils.cc:38] TF-TRT Warning: Could not find TensorRT\n",
            "2024-01-09 10:52:46 | INFO | numexpr.utils | NumExpr defaulting to 2 threads.\n",
            "2024-01-09 10:52:47 | INFO | fairseq.tasks.text_to_speech | Please install tensorboardX: pip install tensorboardX\n",
            "2024-01-09 10:52:50 | INFO | fairseq_cli.train | {'_name': None, 'common': {'_name': None, 'no_progress_bar': False, 'log_interval': 100, 'log_format': 'simple', 'log_file': None, 'aim_repo': None, 'aim_run_hash': None, 'tensorboard_logdir': None, 'wandb_project': None, 'azureml_logging': False, 'seed': 1, 'cpu': False, 'tpu': False, 'bf16': False, 'memory_efficient_bf16': False, 'fp16': False, 'memory_efficient_fp16': False, 'fp16_no_flatten_grads': False, 'fp16_init_scale': 128, 'fp16_scale_window': None, 'fp16_scale_tolerance': 0.0, 'on_cpu_convert_precision': False, 'min_loss_scale': 0.0001, 'threshold_loss_scale': None, 'amp': False, 'amp_batch_retries': 2, 'amp_init_scale': 128, 'amp_scale_window': None, 'user_dir': None, 'empty_cache_freq': 0, 'all_gather_list_size': 16384, 'model_parallel_size': 1, 'quantization_config_path': None, 'profile': False, 'reset_logging': False, 'suppress_crashes': False, 'use_plasma_view': False, 'plasma_path': '/tmp/plasma'}, 'common_eval': {'_name': None, 'path': None, 'post_process': None, 'quiet': False, 'model_overrides': '{}', 'results_path': None}, 'distributed_training': {'_name': None, 'distributed_world_size': 1, 'distributed_num_procs': 0, 'distributed_rank': 0, 'distributed_backend': 'nccl', 'distributed_init_method': None, 'distributed_port': -1, 'device_id': 0, 'distributed_no_spawn': False, 'ddp_backend': 'legacy_ddp', 'ddp_comm_hook': 'none', 'bucket_cap_mb': 25, 'fix_batches_to_gpus': False, 'find_unused_parameters': False, 'gradient_as_bucket_view': False, 'fast_stat_sync': False, 'heartbeat_timeout': -1, 'broadcast_buffers': False, 'slowmo_momentum': None, 'slowmo_base_algorithm': 'localsgd', 'localsgd_frequency': 3, 'nprocs_per_node': 1, 'pipeline_model_parallel': False, 'pipeline_balance': None, 'pipeline_devices': None, 'pipeline_chunks': 0, 'pipeline_encoder_balance': None, 'pipeline_encoder_devices': None, 'pipeline_decoder_balance': None, 'pipeline_decoder_devices': None, 'pipeline_checkpoint': 'never', 'zero_sharding': 'none', 'fp16': False, 'memory_efficient_fp16': False, 'tpu': False, 'no_reshard_after_forward': False, 'fp32_reduce_scatter': False, 'cpu_offload': False, 'use_sharded_state': False, 'not_fsdp_flatten_parameters': False}, 'dataset': {'_name': None, 'num_workers': 1, 'skip_invalid_size_inputs_valid_test': False, 'max_tokens': 8000, 'batch_size': None, 'required_batch_size_multiple': 8, 'required_seq_len_multiple': 1, 'dataset_impl': None, 'data_buffer_size': 10, 'train_subset': 'train', 'valid_subset': 'valid', 'combine_valid_subsets': None, 'ignore_unused_valid_subsets': False, 'validate_interval': 1, 'validate_interval_updates': 0, 'validate_after_updates': 0, 'fixed_validation_seed': 7, 'disable_validation': False, 'max_tokens_valid': 8000, 'batch_size_valid': None, 'max_valid_steps': None, 'curriculum': 0, 'gen_subset': 'test', 'num_shards': 1, 'shard_id': 0, 'grouped_shuffling': False, 'update_epoch_batch_itr': False, 'update_ordered_indices_seed': False}, 'optimization': {'_name': None, 'max_epoch': 0, 'max_update': 300000, 'stop_time_hours': 0.0, 'clip_norm': 0.0, 'sentence_avg': False, 'update_freq': [1], 'lr': [0.0005], 'stop_min_lr': 1e-09, 'use_bmuf': False, 'skip_remainder_batch': False}, 'checkpoint': {'_name': None, 'save_dir': '/content/checkpoints', 'restore_file': 'checkpoint_last.pt', 'continue_once': None, 'finetune_from_model': None, 'reset_dataloader': False, 'reset_lr_scheduler': False, 'reset_meters': False, 'reset_optimizer': False, 'optimizer_overrides': '{}', 'save_interval': 1, 'save_interval_updates': 10000, 'keep_interval_updates': -1, 'keep_interval_updates_pattern': -1, 'keep_last_epochs': -1, 'keep_best_checkpoints': -1, 'no_save': False, 'no_epoch_checkpoints': False, 'no_last_checkpoints': False, 'no_save_optimizer_state': False, 'best_checkpoint_metric': 'loss', 'maximize_best_checkpoint_metric': False, 'patience': -1, 'checkpoint_suffix': '', 'checkpoint_shard_count': 1, 'load_checkpoint_on_all_dp_ranks': False, 'write_checkpoints_asynchronously': False, 'model_parallel_size': 1}, 'bmuf': {'_name': None, 'block_lr': 1.0, 'block_momentum': 0.875, 'global_sync_iter': 50, 'warmup_iterations': 500, 'use_nbm': False, 'average_sync': False, 'distributed_world_size': 1}, 'generation': {'_name': None, 'beam': 5, 'nbest': 1, 'max_len_a': 0.0, 'max_len_b': 200, 'min_len': 1, 'match_source_len': False, 'unnormalized': False, 'no_early_stop': False, 'no_beamable_mm': False, 'lenpen': 1.0, 'unkpen': 0.0, 'replace_unk': None, 'sacrebleu': False, 'score_reference': False, 'prefix_size': 0, 'no_repeat_ngram_size': 0, 'sampling': False, 'sampling_topk': -1, 'sampling_topp': -1.0, 'constraints': None, 'temperature': 1.0, 'diverse_beam_groups': -1, 'diverse_beam_strength': 0.5, 'diversity_rate': -1.0, 'print_alignment': None, 'print_step': False, 'lm_path': None, 'lm_weight': 0.0, 'iter_decode_eos_penalty': 0.0, 'iter_decode_max_iter': 10, 'iter_decode_force_max_iter': False, 'iter_decode_with_beam': 1, 'iter_decode_with_external_reranker': False, 'retain_iter_history': False, 'retain_dropout': False, 'retain_dropout_modules': None, 'decoding_format': None, 'no_seed_provided': False, 'eos_token': None}, 'eval_lm': {'_name': None, 'output_word_probs': False, 'output_word_stats': False, 'context_window': 0, 'softmax_batch': 9223372036854775807}, 'interactive': {'_name': None, 'buffer_size': 0, 'input': '-'}, 'model': Namespace(no_progress_bar=False, log_interval=100, log_format='simple', log_file=None, aim_repo=None, aim_run_hash=None, tensorboard_logdir=None, wandb_project=None, azureml_logging=False, seed=1, cpu=False, tpu=False, bf16=False, memory_efficient_bf16=False, fp16=False, memory_efficient_fp16=False, fp16_no_flatten_grads=False, fp16_init_scale=128, fp16_scale_window=None, fp16_scale_tolerance=0.0, on_cpu_convert_precision=False, min_loss_scale=0.0001, threshold_loss_scale=None, amp=False, amp_batch_retries=2, amp_init_scale=128, amp_scale_window=None, user_dir=None, empty_cache_freq=0, all_gather_list_size=16384, model_parallel_size=1, quantization_config_path=None, profile=False, reset_logging=False, suppress_crashes=False, use_plasma_view=False, plasma_path='/tmp/plasma', criterion='nat_loss', tokenizer=None, bpe=None, optimizer='adam', lr_scheduler='inverse_sqrt', scoring='bleu', task='translation_lev', num_workers=1, skip_invalid_size_inputs_valid_test=False, max_tokens=8000, batch_size=None, required_batch_size_multiple=8, required_seq_len_multiple=1, dataset_impl=None, data_buffer_size=10, train_subset='train', valid_subset='valid', combine_valid_subsets=None, ignore_unused_valid_subsets=False, validate_interval=1, validate_interval_updates=0, validate_after_updates=0, fixed_validation_seed=7, disable_validation=False, max_tokens_valid=8000, batch_size_valid=None, max_valid_steps=None, curriculum=0, gen_subset='test', num_shards=1, shard_id=0, grouped_shuffling=False, update_epoch_batch_itr=False, update_ordered_indices_seed=False, distributed_world_size=1, distributed_num_procs=1, distributed_rank=0, distributed_backend='nccl', distributed_init_method=None, distributed_port=-1, device_id=0, distributed_no_spawn=False, ddp_backend='legacy_ddp', ddp_comm_hook='none', bucket_cap_mb=25, fix_batches_to_gpus=False, find_unused_parameters=False, gradient_as_bucket_view=False, fast_stat_sync=False, heartbeat_timeout=-1, broadcast_buffers=False, slowmo_momentum=None, slowmo_base_algorithm='localsgd', localsgd_frequency=3, nprocs_per_node=1, pipeline_model_parallel=False, pipeline_balance=None, pipeline_devices=None, pipeline_chunks=0, pipeline_encoder_balance=None, pipeline_encoder_devices=None, pipeline_decoder_balance=None, pipeline_decoder_devices=None, pipeline_checkpoint='never', zero_sharding='none', no_reshard_after_forward=False, fp32_reduce_scatter=False, cpu_offload=False, use_sharded_state=False, not_fsdp_flatten_parameters=False, arch='nonautoregressive_transformer', max_epoch=0, max_update=300000, stop_time_hours=0, clip_norm=0.0, sentence_avg=False, update_freq=[1], lr=[0.0005], stop_min_lr=1e-09, use_bmuf=False, skip_remainder_batch=False, save_dir='/content/checkpoints', restore_file='checkpoint_last.pt', continue_once=None, finetune_from_model=None, reset_dataloader=False, reset_lr_scheduler=False, reset_meters=False, reset_optimizer=False, optimizer_overrides='{}', save_interval=1, save_interval_updates=10000, keep_interval_updates=-1, keep_interval_updates_pattern=-1, keep_last_epochs=-1, keep_best_checkpoints=-1, no_save=False, no_epoch_checkpoints=False, no_last_checkpoints=False, no_save_optimizer_state=False, best_checkpoint_metric='loss', maximize_best_checkpoint_metric=False, patience=-1, checkpoint_suffix='', checkpoint_shard_count=1, load_checkpoint_on_all_dp_ranks=False, write_checkpoints_asynchronously=False, store_ema=False, ema_decay=0.9999, ema_start_update=0, ema_seed_model=None, ema_update_freq=1, ema_fp32=False, data='/content/drive/MyDrive/NAT/data/fairseq_preprocessed', source_lang=None, target_lang=None, load_alignments=False, left_pad_source=True, left_pad_target=False, upsample_primary=-1, truncate_source=False, num_batch_buckets=0, eval_bleu=False, eval_bleu_args='{}', eval_bleu_detok='space', eval_bleu_detok_args='{}', eval_tokenized_bleu=False, eval_bleu_remove_bpe=None, eval_bleu_print_samples=False, noise='full_mask', label_smoothing=0.1, adam_betas='(0.9,0.98)', adam_eps=1e-08, weight_decay=0.01, use_old_adam=False, fp16_adam_stats=False, warmup_updates=10000, warmup_init_lr=1e-07, pad=1, eos=2, unk=3, share_all_embeddings=True, dropout=0.3, decoder_learned_pos=True, encoder_learned_pos=True, pred_length_offset=True, length_loss_factor=0.1, apply_bert_init=True, no_seed_provided=False, encoder_embed_path=None, encoder_embed_dim=512, encoder_ffn_embed_dim=2048, encoder_layers=6, encoder_attention_heads=8, encoder_normalize_before=False, decoder_embed_path=None, decoder_embed_dim=512, decoder_ffn_embed_dim=2048, decoder_layers=6, decoder_attention_heads=8, decoder_normalize_before=False, attention_dropout=0.0, activation_dropout=0.0, activation_fn='relu', adaptive_softmax_cutoff=None, adaptive_softmax_dropout=0, share_decoder_input_output_embed=False, no_token_positional_embeddings=False, adaptive_input=False, decoder_output_dim=512, decoder_input_dim=512, sg_length_pred=False, src_embedding_copy=False, _name='nonautoregressive_transformer'), 'task': {'_name': 'translation_lev', 'data': '/content/drive/MyDrive/NAT/data/fairseq_preprocessed', 'source_lang': None, 'target_lang': None, 'load_alignments': False, 'left_pad_source': True, 'left_pad_target': False, 'max_source_positions': 1024, 'max_target_positions': 1024, 'upsample_primary': -1, 'truncate_source': False, 'num_batch_buckets': 0, 'train_subset': 'train', 'dataset_impl': None, 'required_seq_len_multiple': 1, 'eval_bleu': False, 'eval_bleu_args': '{}', 'eval_bleu_detok': 'space', 'eval_bleu_detok_args': '{}', 'eval_tokenized_bleu': False, 'eval_bleu_remove_bpe': None, 'eval_bleu_print_samples': False, 'noise': full_mask}, 'criterion': {'_name': 'nat_loss', 'label_smoothing': 0.1}, 'optimizer': {'_name': 'adam', 'adam_betas': '(0.9,0.98)', 'adam_eps': 1e-08, 'weight_decay': 0.01, 'use_old_adam': False, 'fp16_adam_stats': False, 'tpu': False, 'lr': [0.0005]}, 'lr_scheduler': {'_name': 'inverse_sqrt', 'warmup_updates': 10000, 'warmup_init_lr': 1e-07, 'lr': [0.0005]}, 'scoring': {'_name': 'bleu', 'pad': 1, 'eos': 2, 'unk': 3}, 'bpe': None, 'tokenizer': None, 'ema': {'_name': None, 'store_ema': False, 'ema_decay': 0.9999, 'ema_start_update': 0, 'ema_seed_model': None, 'ema_update_freq': 1, 'ema_fp32': False}}\n",
            "2024-01-09 10:52:50 | INFO | fairseq.tasks.translation | [en] dictionary: 39840 types\n",
            "2024-01-09 10:52:50 | INFO | fairseq.tasks.translation | [de] dictionary: 39840 types\n",
            "2024-01-09 10:52:53 | INFO | fairseq_cli.train | NATransformerModel(\n",
            "  (encoder): FairseqNATEncoder(\n",
            "    (dropout_module): FairseqDropout()\n",
            "    (embed_tokens): Embedding(39840, 512, padding_idx=1)\n",
            "    (embed_positions): LearnedPositionalEmbedding(1026, 512, padding_idx=1)\n",
            "    (layers): ModuleList(\n",
            "      (0-5): 6 x TransformerEncoderLayerBase(\n",
            "        (self_attn): MultiheadAttention(\n",
            "          (dropout_module): FairseqDropout()\n",
            "          (k_proj): Linear(in_features=512, out_features=512, bias=True)\n",
            "          (v_proj): Linear(in_features=512, out_features=512, bias=True)\n",
            "          (q_proj): Linear(in_features=512, out_features=512, bias=True)\n",
            "          (out_proj): Linear(in_features=512, out_features=512, bias=True)\n",
            "        )\n",
            "        (self_attn_layer_norm): LayerNorm((512,), eps=1e-05, elementwise_affine=True)\n",
            "        (dropout_module): FairseqDropout()\n",
            "        (activation_dropout_module): FairseqDropout()\n",
            "        (fc1): Linear(in_features=512, out_features=2048, bias=True)\n",
            "        (fc2): Linear(in_features=2048, out_features=512, bias=True)\n",
            "        (final_layer_norm): LayerNorm((512,), eps=1e-05, elementwise_affine=True)\n",
            "      )\n",
            "    )\n",
            "  )\n",
            "  (decoder): NATransformerDecoder(\n",
            "    (dropout_module): FairseqDropout()\n",
            "    (embed_tokens): Embedding(39840, 512, padding_idx=1)\n",
            "    (embed_positions): LearnedPositionalEmbedding(1026, 512, padding_idx=1)\n",
            "    (layers): ModuleList(\n",
            "      (0-5): 6 x TransformerDecoderLayerBase(\n",
            "        (dropout_module): FairseqDropout()\n",
            "        (self_attn): MultiheadAttention(\n",
            "          (dropout_module): FairseqDropout()\n",
            "          (k_proj): Linear(in_features=512, out_features=512, bias=True)\n",
            "          (v_proj): Linear(in_features=512, out_features=512, bias=True)\n",
            "          (q_proj): Linear(in_features=512, out_features=512, bias=True)\n",
            "          (out_proj): Linear(in_features=512, out_features=512, bias=True)\n",
            "        )\n",
            "        (activation_dropout_module): FairseqDropout()\n",
            "        (self_attn_layer_norm): LayerNorm((512,), eps=1e-05, elementwise_affine=True)\n",
            "        (encoder_attn): MultiheadAttention(\n",
            "          (dropout_module): FairseqDropout()\n",
            "          (k_proj): Linear(in_features=512, out_features=512, bias=True)\n",
            "          (v_proj): Linear(in_features=512, out_features=512, bias=True)\n",
            "          (q_proj): Linear(in_features=512, out_features=512, bias=True)\n",
            "          (out_proj): Linear(in_features=512, out_features=512, bias=True)\n",
            "        )\n",
            "        (encoder_attn_layer_norm): LayerNorm((512,), eps=1e-05, elementwise_affine=True)\n",
            "        (fc1): Linear(in_features=512, out_features=2048, bias=True)\n",
            "        (fc2): Linear(in_features=2048, out_features=512, bias=True)\n",
            "        (final_layer_norm): LayerNorm((512,), eps=1e-05, elementwise_affine=True)\n",
            "      )\n",
            "    )\n",
            "    (output_projection): Linear(in_features=512, out_features=39840, bias=False)\n",
            "    (embed_length): Embedding(256, 512)\n",
            "  )\n",
            ")\n",
            "2024-01-09 10:52:53 | INFO | fairseq_cli.train | task: TranslationLevenshteinTask\n",
            "2024-01-09 10:52:53 | INFO | fairseq_cli.train | model: NATransformerModel\n",
            "2024-01-09 10:52:53 | INFO | fairseq_cli.train | criterion: LabelSmoothedDualImitationCriterion\n",
            "2024-01-09 10:52:53 | INFO | fairseq_cli.train | num. shared model params: 84,620,288 (num. trained: 84,620,288)\n",
            "2024-01-09 10:52:53 | INFO | fairseq_cli.train | num. expert model params: 0 (num. trained: 0)\n",
            "2024-01-09 10:52:53 | INFO | fairseq.data.data_utils | loaded 3,000 examples from: /content/drive/MyDrive/NAT/data/fairseq_preprocessed/valid.en-de.en\n",
            "2024-01-09 10:52:53 | INFO | fairseq.data.data_utils | loaded 3,000 examples from: /content/drive/MyDrive/NAT/data/fairseq_preprocessed/valid.en-de.de\n",
            "2024-01-09 10:52:53 | INFO | fairseq.tasks.translation | /content/drive/MyDrive/NAT/data/fairseq_preprocessed valid en-de 3000 examples\n",
            "2024-01-09 10:52:53 | INFO | fairseq.trainer | detected shared parameter: encoder.embed_tokens.weight <- decoder.embed_tokens.weight\n",
            "2024-01-09 10:52:53 | INFO | fairseq.trainer | detected shared parameter: encoder.embed_tokens.weight <- decoder.output_projection.weight\n",
            "2024-01-09 10:52:53 | INFO | fairseq_cli.train | training on 1 devices (GPUs/TPUs)\n",
            "2024-01-09 10:52:53 | INFO | fairseq_cli.train | max tokens per device = 8000 and max sentences per device = None\n",
            "2024-01-09 10:52:53 | INFO | fairseq.trainer | Preparing to load checkpoint /content/checkpoints/checkpoint_last.pt\n",
            "2024-01-09 10:52:53 | INFO | fairseq.trainer | No existing checkpoint found /content/checkpoints/checkpoint_last.pt\n",
            "2024-01-09 10:52:53 | INFO | fairseq.trainer | loading train data for epoch 1\n",
            "2024-01-09 10:52:55 | INFO | fairseq.data.data_utils | loaded 3,961,179 examples from: /content/drive/MyDrive/NAT/data/fairseq_preprocessed/train.en-de.en\n",
            "2024-01-09 10:52:57 | INFO | fairseq.data.data_utils | loaded 3,961,179 examples from: /content/drive/MyDrive/NAT/data/fairseq_preprocessed/train.en-de.de\n",
            "2024-01-09 10:52:57 | INFO | fairseq.tasks.translation | /content/drive/MyDrive/NAT/data/fairseq_preprocessed train en-de 3961179 examples\n",
            "2024-01-09 10:53:00 | INFO | fairseq.data.iterators | grouped total_num_itrs = 16322\n",
            "2024-01-09 10:53:00 | INFO | fairseq.trainer | begin training epoch 1\n",
            "2024-01-09 10:53:00 | INFO | fairseq_cli.train | Start iterating over samples\n",
            "Traceback (most recent call last):\n",
            "  File \"/usr/local/bin/fairseq-train\", line 8, in <module>\n",
            "    sys.exit(cli_main())\n",
            "  File \"/usr/local/lib/python3.10/dist-packages/fairseq_cli/train.py\", line 557, in cli_main\n",
            "    distributed_utils.call_main(cfg, main)\n",
            "  File \"/usr/local/lib/python3.10/dist-packages/fairseq/distributed/utils.py\", line 369, in call_main\n",
            "    main(cfg, **kwargs)\n",
            "  File \"/usr/local/lib/python3.10/dist-packages/fairseq_cli/train.py\", line 190, in main\n",
            "    valid_losses, should_stop = train(cfg, trainer, task, epoch_itr)\n",
            "  File \"/usr/lib/python3.10/contextlib.py\", line 79, in inner\n",
            "    return func(*args, **kwds)\n",
            "  File \"/usr/local/lib/python3.10/dist-packages/fairseq_cli/train.py\", line 316, in train\n",
            "    log_output = trainer.train_step(samples)\n",
            "  File \"/usr/lib/python3.10/contextlib.py\", line 79, in inner\n",
            "    return func(*args, **kwds)\n",
            "  File \"/usr/local/lib/python3.10/dist-packages/fairseq/trainer.py\", line 824, in train_step\n",
            "    loss, sample_size_i, logging_output = self.task.train_step(\n",
            "  File \"/usr/local/lib/python3.10/dist-packages/fairseq/tasks/translation_lev.py\", line 187, in train_step\n",
            "    optimizer.backward(loss)\n",
            "  File \"/usr/local/lib/python3.10/dist-packages/fairseq/optim/fairseq_optimizer.py\", line 95, in backward\n",
            "    loss.backward()\n",
            "  File \"/usr/local/lib/python3.10/dist-packages/torch/_tensor.py\", line 492, in backward\n",
            "    torch.autograd.backward(\n",
            "  File \"/usr/local/lib/python3.10/dist-packages/torch/autograd/__init__.py\", line 251, in backward\n",
            "    Variable._execution_engine.run_backward(  # Calls into the C++ engine to run the backward pass\n",
            "KeyboardInterrupt\n",
            "^C\n"
          ]
        }
      ],
      "source": [
        "train = \"\"\" fairseq-train \\\n",
        "    /content/drive/MyDrive/NAT/data/fairseq_preprocessed \\\n",
        "    --save-dir /content/checkpoints \\\n",
        "    --ddp-backend=legacy_ddp \\\n",
        "    --task translation_lev \\\n",
        "    --criterion nat_loss \\\n",
        "    --arch nonautoregressive_transformer \\\n",
        "    --noise full_mask \\\n",
        "    --share-all-embeddings \\\n",
        "    --optimizer adam --adam-betas '(0.9,0.98)' \\\n",
        "    --lr 0.0005 --lr-scheduler inverse_sqrt \\\n",
        "    --stop-min-lr '1e-09' --warmup-updates 10000 \\\n",
        "    --warmup-init-lr '1e-07' --label-smoothing 0.1 \\\n",
        "    --dropout 0.3 --weight-decay 0.01 \\\n",
        "    --decoder-learned-pos \\\n",
        "    --encoder-learned-pos \\\n",
        "    --pred-length-offset \\\n",
        "    --length-loss-factor 0.1 \\\n",
        "    --apply-bert-init \\\n",
        "    --log-format 'simple' --log-interval 100 \\\n",
        "    --fixed-validation-seed 7 \\\n",
        "    --max-tokens 8000 \\\n",
        "    --save-interval-updates 10000 \\\n",
        "    --max-update 300000 \"\"\"\n",
        "\n",
        "!{train}"
      ]
    }
  ],
  "metadata": {
    "accelerator": "GPU",
    "colab": {
      "provenance": [],
      "include_colab_link": true
    },
    "kernelspec": {
      "display_name": "Python 3",
      "name": "python3"
    },
    "language_info": {
      "name": "python"
    }
  },
  "nbformat": 4,
  "nbformat_minor": 0
}